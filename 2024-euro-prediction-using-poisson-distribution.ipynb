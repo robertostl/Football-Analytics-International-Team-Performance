{
 "cells": [
  {
   "cell_type": "markdown",
   "id": "72242f54",
   "metadata": {
    "papermill": {
     "duration": 0.019589,
     "end_time": "2024-06-10T11:18:48.294719",
     "exception": false,
     "start_time": "2024-06-10T11:18:48.275130",
     "status": "completed"
    },
    "tags": []
   },
   "source": [
    "# Predicting the 2024 UEFA Euro Using Poisson Distribution\n",
    "\n",
    "Football predictions have always been a fascinating topic for data scientists and enthusiasts alike. In this project, we leverage the power of the Poisson distribution to forecast the outcomes of the 2024 UEFA European Championship. This method is particularly well-suited for predicting football scores due to the nature of the game, where goals are relatively rare events."
   ]
  },
  {
   "cell_type": "code",
   "execution_count": 1,
   "id": "6594fc9d",
   "metadata": {
    "execution": {
     "iopub.execute_input": "2024-06-10T11:18:48.332047Z",
     "iopub.status.busy": "2024-06-10T11:18:48.331204Z",
     "iopub.status.idle": "2024-06-10T11:18:50.617508Z",
     "shell.execute_reply": "2024-06-10T11:18:50.616024Z"
    },
    "papermill": {
     "duration": 2.307484,
     "end_time": "2024-06-10T11:18:50.620415",
     "exception": false,
     "start_time": "2024-06-10T11:18:48.312931",
     "status": "completed"
    },
    "tags": []
   },
   "outputs": [],
   "source": [
    "#intalling the necesary libraries\n",
    "import numpy as np\n",
    "import pandas as pd\n",
    "import matplotlib.pyplot as plt\n",
    "from scipy.stats import poisson\n",
    "from sklearn.metrics import accuracy_score\n",
    "from sklearn.metrics import roc_curve, roc_auc_score\n",
    "import matplotlib.colors as mcolors\n",
    "import warnings\n",
    "warnings.filterwarnings('ignore')"
   ]
  },
  {
   "cell_type": "markdown",
   "id": "7da3a69d",
   "metadata": {
    "papermill": {
     "duration": 0.016128,
     "end_time": "2024-06-10T11:18:50.653124",
     "exception": false,
     "start_time": "2024-06-10T11:18:50.636996",
     "status": "completed"
    },
    "tags": []
   },
   "source": [
    "# Data Collection\n",
    "The first step in our analysis involved gathering historical match data. The dataset sourced from Kaggle contains the results of international football matches starting from the very first official match in 1872 up to 2024."
   ]
  },
  {
   "cell_type": "code",
   "execution_count": 2,
   "id": "7fd2d53e",
   "metadata": {
    "execution": {
     "iopub.execute_input": "2024-06-10T11:18:50.688847Z",
     "iopub.status.busy": "2024-06-10T11:18:50.688116Z",
     "iopub.status.idle": "2024-06-10T11:18:50.884982Z",
     "shell.execute_reply": "2024-06-10T11:18:50.883909Z"
    },
    "papermill": {
     "duration": 0.217672,
     "end_time": "2024-06-10T11:18:50.887753",
     "exception": false,
     "start_time": "2024-06-10T11:18:50.670081",
     "status": "completed"
    },
    "tags": []
   },
   "outputs": [],
   "source": [
    "#Reading the \n",
    "df = pd.read_csv('/kaggle/input/international-football-results-from-1872-to-2017/results.csv',sep=',',)\n",
    "#Dropping matches without final result\n",
    "df=df[~df['home_score'].isna()]"
   ]
  },
  {
   "cell_type": "markdown",
   "id": "2ebd103f",
   "metadata": {
    "papermill": {
     "duration": 0.017311,
     "end_time": "2024-06-10T11:18:50.921704",
     "exception": false,
     "start_time": "2024-06-10T11:18:50.904393",
     "status": "completed"
    },
    "tags": []
   },
   "source": [
    "# ELO Ranking System"
   ]
  },
  {
   "cell_type": "markdown",
   "id": "0d72a51d",
   "metadata": {
    "papermill": {
     "duration": 0.016375,
     "end_time": "2024-06-10T11:18:50.954612",
     "exception": false,
     "start_time": "2024-06-10T11:18:50.938237",
     "status": "completed"
    },
    "tags": []
   },
   "source": [
    "The Elo ranking system is a method for calculating the relative skill levels of teams. It is useful for ranking teams based on their performance in previous matches. The Elo rating is dynamic, meaning it changes based on the results of matches, rewarding teams for wins and penalizing them for losses, while also considering the strength of the opponents.\n",
    "\n",
    "To create our dataset, we need to define some parameters, such as the importance of each tournament in the points exchanged by the Elo ranking system."
   ]
  },
  {
   "cell_type": "code",
   "execution_count": 3,
   "id": "d3927a99",
   "metadata": {
    "execution": {
     "iopub.execute_input": "2024-06-10T11:18:50.989669Z",
     "iopub.status.busy": "2024-06-10T11:18:50.989235Z",
     "iopub.status.idle": "2024-06-10T11:18:51.002078Z",
     "shell.execute_reply": "2024-06-10T11:18:51.000743Z"
    },
    "papermill": {
     "duration": 0.033755,
     "end_time": "2024-06-10T11:18:51.004843",
     "exception": false,
     "start_time": "2024-06-10T11:18:50.971088",
     "status": "completed"
    },
    "tags": []
   },
   "outputs": [],
   "source": [
    "#Auxiliary funtions for update the ratings\n",
    "confederation_tournaments=['AFC Asian Cup','African Cup of Nations','UEFA Euro','Copa América','CONCACAF Championship','Oceania Nations Cup']\n",
    "confederation_clasification=['UEFA Euro qualification','African Cup of Nations qualification','FC Asian Cup qualification','UEFA Nations League']\n",
    "def k_value(tournament):\n",
    "    k=5\n",
    "    if tournament == 'Friendly':\n",
    "        k=10\n",
    "    elif tournament in confederation_clasification:\n",
    "        k=20\n",
    "    elif tournament == 'FIFA World Cup qualification':\n",
    "        k=25\n",
    "    elif tournament in confederation_tournaments:\n",
    "        k=40\n",
    "    elif tournament == 'FIFA World Cup':\n",
    "        k=50\n",
    "    return k\n",
    "\n",
    "def expected_result(loc,aw):\n",
    "    dr=loc-aw\n",
    "    we=(1/(10**(-dr/400)+1))\n",
    "    return [np.round(we,3),1-np.round(we,3)]\n",
    "\n",
    "def actual_result(loc,aw):\n",
    "    if loc<aw:\n",
    "        wa=1\n",
    "        wl=0\n",
    "    elif loc>aw:\n",
    "        wa=0\n",
    "        wl=1\n",
    "    elif loc==aw:\n",
    "        wa=0.5\n",
    "        wl=0.5\n",
    "    return [wl,wa]\n",
    "\n",
    "def calculate_elo(elo_l,elo_v,local_goals,away_goals,tournament):\n",
    "\n",
    "    k=k_value(tournament)\n",
    "    wl,wv=actual_result(local_goals,away_goals)\n",
    "    wel,wev=expected_result(elo_l,elo_v)\n",
    "\n",
    "    elo_ln=elo_l+k*(wl-wel)\n",
    "    elo_vn=elo_v+k*(wv-wev)\n",
    "\n",
    "    return elo_ln,elo_vn,wel,wev"
   ]
  },
  {
   "cell_type": "code",
   "execution_count": 4,
   "id": "4e224505",
   "metadata": {
    "execution": {
     "iopub.execute_input": "2024-06-10T11:18:51.039627Z",
     "iopub.status.busy": "2024-06-10T11:18:51.039216Z",
     "iopub.status.idle": "2024-06-10T11:20:01.291306Z",
     "shell.execute_reply": "2024-06-10T11:20:01.290186Z"
    },
    "papermill": {
     "duration": 70.272839,
     "end_time": "2024-06-10T11:20:01.294456",
     "exception": false,
     "start_time": "2024-06-10T11:18:51.021617",
     "status": "completed"
    },
    "tags": []
   },
   "outputs": [],
   "source": [
    "#Calculating the elo points for all historical internatinal matches\n",
    "current_elo={}\n",
    "for idx,row in df.iterrows():\n",
    "\n",
    "    local=row['home_team']\n",
    "    away=row['away_team']\n",
    "    local_goals=row['home_score']\n",
    "    away_goals=row['away_score']\n",
    "    tournament = row['tournament']\n",
    "\n",
    "\n",
    "    if local not in current_elo.keys():\n",
    "        current_elo[local]=1300\n",
    "\n",
    "    if away not in current_elo.keys():\n",
    "        current_elo[away]=1300\n",
    "\n",
    "    elo_l=current_elo[local]\n",
    "    elo_v=current_elo[away]\n",
    "    elo_ln,elo_vn, wel,wev=calculate_elo(elo_l,elo_v,local_goals,away_goals,tournament)\n",
    "\n",
    "    current_elo[local]=elo_ln\n",
    "    current_elo[away]=elo_vn\n",
    "\n",
    "    df.loc[idx,'Elo_h_after']=elo_ln\n",
    "    df.loc[idx,'Elo_a_after']=elo_vn\n",
    "    df.loc[idx,'Elo_h_before']=elo_l\n",
    "    df.loc[idx,'Elo_a_before']=elo_v\n",
    "    df.loc[idx,'probH']=wel\n",
    "    df.loc[idx,'probA']=wev"
   ]
  },
  {
   "cell_type": "markdown",
   "id": "147116cf",
   "metadata": {
    "papermill": {
     "duration": 0.016466,
     "end_time": "2024-06-10T11:20:01.327721",
     "exception": false,
     "start_time": "2024-06-10T11:20:01.311255",
     "status": "completed"
    },
    "tags": []
   },
   "source": [
    "Once we have processed the historical data of international matches, we can calculate the final Elo points for each team. This gives us the current Elo ranking, which reflects the latest performance levels of the teams."
   ]
  },
  {
   "cell_type": "code",
   "execution_count": 5,
   "id": "9ac84e3b",
   "metadata": {
    "execution": {
     "iopub.execute_input": "2024-06-10T11:20:01.363757Z",
     "iopub.status.busy": "2024-06-10T11:20:01.363284Z",
     "iopub.status.idle": "2024-06-10T11:20:01.688836Z",
     "shell.execute_reply": "2024-06-10T11:20:01.687739Z"
    },
    "papermill": {
     "duration": 0.346808,
     "end_time": "2024-06-10T11:20:01.691608",
     "exception": false,
     "start_time": "2024-06-10T11:20:01.344800",
     "status": "completed"
    },
    "tags": []
   },
   "outputs": [],
   "source": [
    "elos=pd.concat([df[['date','home_team','Elo_h_after']].rename(columns={'home_team':'Team','Elo_h_after':'Elo'}),df[['date','away_team','Elo_a_after']].rename(columns={'away_team':'Team','Elo_a_after':'Elo'})])\n",
    "elos.sort_values(by='date', ascending=False,inplace=True)\n",
    "elos.drop_duplicates('Team',inplace=True)\n",
    "elos.sort_values(by='Elo', ascending=False, inplace=True)\n",
    "elos.reset_index(drop=True, inplace=True)\n",
    "elos['position']=elos.index+1"
   ]
  },
  {
   "cell_type": "code",
   "execution_count": 6,
   "id": "b126c4cb",
   "metadata": {
    "execution": {
     "iopub.execute_input": "2024-06-10T11:20:01.726796Z",
     "iopub.status.busy": "2024-06-10T11:20:01.726324Z",
     "iopub.status.idle": "2024-06-10T11:20:02.151179Z",
     "shell.execute_reply": "2024-06-10T11:20:02.149996Z"
    },
    "papermill": {
     "duration": 0.445913,
     "end_time": "2024-06-10T11:20:02.153909",
     "exception": false,
     "start_time": "2024-06-10T11:20:01.707996",
     "status": "completed"
    },
    "tags": []
   },
   "outputs": [
    {
     "data": {
      "image/png": "[encoded data removed]",
      "text/plain": [
       "<Figure size 1200x800 with 1 Axes>"
      ]
     },
     "metadata": {},
     "output_type": "display_data"
    }
   ],
   "source": [
    "def plot_top_elo(elos, n=10):\n",
    "    \"\"\"\n",
    "    Plots the top n teams by Elo rating in a horizontal bar chart.\n",
    "    \n",
    "    Parameters:\n",
    "    elos (pd.DataFrame): DataFrame containing 'Team' and 'Elo' columns.\n",
    "    n (int): Number of top teams to display.\n",
    "    \"\"\"\n",
    "    # Sort elos DataFrame by Elo rating in descending order\n",
    "    elos.sort_values(by='Elo', ascending=False, inplace=True)\n",
    "\n",
    "    # Select only the top n teams\n",
    "    top_teams = elos.head(n)\n",
    "\n",
    "    # Create a color map\n",
    "    cmap = plt.get_cmap('viridis')\n",
    "    norm = mcolors.Normalize(vmin=min(top_teams['Elo']), vmax=max(top_teams['Elo']))\n",
    "    colors = cmap(norm(top_teams['Elo']))\n",
    "\n",
    "    # Plotting\n",
    "    plt.figure(figsize=(12, 8))\n",
    "    bars = plt.barh(top_teams['Team'], top_teams['Elo'], color=colors)\n",
    "    \n",
    "    # Add text annotations\n",
    "    for bar in bars:\n",
    "        plt.text(\n",
    "            bar.get_width() + 5, \n",
    "            bar.get_y() + bar.get_height() / 2, \n",
    "            f'{bar.get_width():.0f}', \n",
    "            ha='left', \n",
    "            va='center',\n",
    "            fontsize=10\n",
    "        )\n",
    "\n",
    "    # Highlighting the top team\n",
    "    bars[0].set_edgecolor('black')\n",
    "    bars[0].set_linewidth(2)\n",
    "\n",
    "    # Customizing the plot\n",
    "    plt.xlabel('Elo Rating')\n",
    "    plt.title('Top Teams by Elo Rating')\n",
    "    plt.gca().invert_yaxis()  # Invert y-axis to display the highest Elo at the top\n",
    "    plt.grid(axis='x', linestyle='--', alpha=0.7)\n",
    "\n",
    "    # Show plot\n",
    "    plt.tight_layout()\n",
    "    plt.show()\n",
    "\n",
    "# Call the function\n",
    "plot_top_elo(elos, 10)\n"
   ]
  },
  {
   "cell_type": "markdown",
   "id": "bd588a9a",
   "metadata": {
    "papermill": {
     "duration": 0.018012,
     "end_time": "2024-06-10T11:20:02.189467",
     "exception": false,
     "start_time": "2024-06-10T11:20:02.171455",
     "status": "completed"
    },
    "tags": []
   },
   "source": [
    "We will focus only on the teams participating in the 2024 Euro. Therefore, the ranking would be as follows:"
   ]
  },
  {
   "cell_type": "code",
   "execution_count": 7,
   "id": "40ef9539",
   "metadata": {
    "execution": {
     "iopub.execute_input": "2024-06-10T11:20:02.226213Z",
     "iopub.status.busy": "2024-06-10T11:20:02.225781Z",
     "iopub.status.idle": "2024-06-10T11:20:02.895522Z",
     "shell.execute_reply": "2024-06-10T11:20:02.894382Z"
    },
    "papermill": {
     "duration": 0.692249,
     "end_time": "2024-06-10T11:20:02.899147",
     "exception": false,
     "start_time": "2024-06-10T11:20:02.206898",
     "status": "completed"
    },
    "tags": []
   },
   "outputs": [
    {
     "data": {
      "image/png": "[encoded data removed]",
      "text/plain": [
       "<Figure size 1200x800 with 1 Axes>"
      ]
     },
     "metadata": {},
     "output_type": "display_data"
    }
   ],
   "source": [
    "eurocup_teams =[\n",
    "    \"Albania\", \"Scotland\", \"Hungary\", \"Romania\",\n",
    "    \"Germany\", \"Slovakia\", \"England\", \"Czech Republic\",\n",
    "    \"Austria\", \"Slovenia\", \"Italy\", \"Serbia\",\n",
    "    \"Belgium\", \"Spain\", \"Netherlands\", \"Switzerland\",\n",
    "    \"Croatia\", \"France\", \"Poland\", \"Turkey\",\n",
    "    \"Denmark\", \"Georgia\", \"Portugal\", \"Ukraine\"\n",
    "]\n",
    "\n",
    "elos_ranking_euro = elos[elos.Team.isin(eurocup_teams)].copy()\n",
    "plot_top_elo(elos_ranking_euro,24)"
   ]
  },
  {
   "cell_type": "markdown",
   "id": "983aa1c7",
   "metadata": {
    "papermill": {
     "duration": 0.01958,
     "end_time": "2024-06-10T11:20:02.937962",
     "exception": false,
     "start_time": "2024-06-10T11:20:02.918382",
     "status": "completed"
    },
    "tags": []
   },
   "source": [
    "Based on this ranking, we can say that France is the favorite to win the Euro, while Albania is the weakest team in the tournament."
   ]
  },
  {
   "cell_type": "markdown",
   "id": "559e0e10",
   "metadata": {
    "papermill": {
     "duration": 0.01966,
     "end_time": "2024-06-10T11:20:02.976880",
     "exception": false,
     "start_time": "2024-06-10T11:20:02.957220",
     "status": "completed"
    },
    "tags": []
   },
   "source": [
    "One of the problems with international matches is that we don't have the statistics of a league, making it difficult to determine which team has a better attack because it depends on the quality of the opponent. To solve this, and using the same idea as the Elo ranking system above, we can create a ranking for attacking power and defensive power."
   ]
  },
  {
   "cell_type": "code",
   "execution_count": 8,
   "id": "bcd348d8",
   "metadata": {
    "execution": {
     "iopub.execute_input": "2024-06-10T11:20:03.017532Z",
     "iopub.status.busy": "2024-06-10T11:20:03.017107Z",
     "iopub.status.idle": "2024-06-10T11:20:03.025669Z",
     "shell.execute_reply": "2024-06-10T11:20:03.024408Z"
    },
    "papermill": {
     "duration": 0.032152,
     "end_time": "2024-06-10T11:20:03.028319",
     "exception": false,
     "start_time": "2024-06-10T11:20:02.996167",
     "status": "completed"
    },
    "tags": []
   },
   "outputs": [],
   "source": [
    "def calculate_attdef(Attack_l,Attack_v,Deffend_l,Deffend_v,localGoals,awayGoals, tournament,neutral):\n",
    "    k=k_value(tournament)\n",
    "    if neutral==False:\n",
    "        c=1.27\n",
    "    else:\n",
    "        c=1\n",
    "    ehg=Attack_l*Deffend_v*c\n",
    "    eag=Attack_v*Deffend_l/c\n",
    "    Attack_ln=Attack_l+(k/2000)*(localGoals-ehg)\n",
    "    Attack_vn=Attack_v+(k/2000)*(awayGoals-eag)\n",
    "    Deffend_ln=Deffend_l+(k/2000)*(awayGoals-eag)\n",
    "    Deffend_vn=Deffend_v+(k/2000)*(localGoals-ehg)\n",
    "  \n",
    "    return Attack_ln,Attack_vn,Deffend_ln,Deffend_vn, ehg, eag"
   ]
  },
  {
   "cell_type": "code",
   "execution_count": 9,
   "id": "25254bde",
   "metadata": {
    "execution": {
     "iopub.execute_input": "2024-06-10T11:20:03.070840Z",
     "iopub.status.busy": "2024-06-10T11:20:03.070446Z",
     "iopub.status.idle": "2024-06-10T11:22:07.888716Z",
     "shell.execute_reply": "2024-06-10T11:22:07.887461Z"
    },
    "papermill": {
     "duration": 124.8435,
     "end_time": "2024-06-10T11:22:07.892263",
     "exception": false,
     "start_time": "2024-06-10T11:20:03.048763",
     "status": "completed"
    },
    "tags": []
   },
   "outputs": [],
   "source": [
    "current_att={}\n",
    "current_def={}\n",
    "for idx,row in df.iterrows():\n",
    "\n",
    "    local=row['home_team']\n",
    "    away=row['away_team']\n",
    "    local_goals=row['home_score']\n",
    "    away_goals=row['away_score']\n",
    "    tournament=row['tournament']\n",
    "    neutral=row['neutral']\n",
    "\n",
    "    if local not in current_att.keys():\n",
    "        current_att[local]=1.3\n",
    "    if away not in current_att.keys():\n",
    "        current_att[away]=1.3\n",
    "    if local not in current_def.keys():\n",
    "        current_def[local]=1.3\n",
    "    if away not in current_def.keys():\n",
    "        current_def[away]=1.3\n",
    "\n",
    "    att_l=current_att[local]\n",
    "    att_v=current_att[away]\n",
    "    def_l=current_def[local]\n",
    "    def_v=current_def[away]\n",
    "\n",
    "    att_ln,att_vn, def_ln, def_vn, ehg, eag=calculate_attdef(att_l,att_v,def_l,def_v,local_goals,away_goals, tournament,neutral)\n",
    "\n",
    "    current_att[local]=att_ln\n",
    "    current_att[away]=att_vn\n",
    "    current_def[local]=def_ln\n",
    "    current_def[away]=def_vn\n",
    "\n",
    "    df.loc[idx,'att_h_after']=att_ln\n",
    "    df.loc[idx,'att_a_after']=att_vn\n",
    "    df.loc[idx,'att_h_before']=att_l\n",
    "    df.loc[idx,'att_a_before']=att_v\n",
    "    df.loc[idx,'def_h_after']=def_ln\n",
    "    df.loc[idx,'def_a_after']=def_vn\n",
    "    df.loc[idx,'def_h_before']=def_l\n",
    "    df.loc[idx,'def_a_before']=def_v\n",
    "    df.loc[idx,'XGhome']=ehg\n",
    "    df.loc[idx,'XGaway']=eag"
   ]
  },
  {
   "cell_type": "code",
   "execution_count": 10,
   "id": "08d6d2cb",
   "metadata": {
    "execution": {
     "iopub.execute_input": "2024-06-10T11:22:07.932915Z",
     "iopub.status.busy": "2024-06-10T11:22:07.932539Z",
     "iopub.status.idle": "2024-06-10T11:22:08.262846Z",
     "shell.execute_reply": "2024-06-10T11:22:08.261817Z"
    },
    "papermill": {
     "duration": 0.353687,
     "end_time": "2024-06-10T11:22:08.265693",
     "exception": false,
     "start_time": "2024-06-10T11:22:07.912006",
     "status": "completed"
    },
    "tags": []
   },
   "outputs": [],
   "source": [
    "attdef=df.copy()\n",
    "attdef=pd.concat([df[['date','home_team','att_h_after','def_h_after']].rename(columns={'home_team':'Team','att_h_after':'att','def_h_after':'def'}),df[['date','away_team','att_a_after','def_a_after']].rename(columns={'away_team':'Team','att_a_after':'att','def_a_after':'def'})])\n",
    "attdef.sort_values(by='date', ascending=False,inplace=True)\n",
    "attdef.drop_duplicates('Team',inplace=True)\n",
    "attdef.sort_values(by='def', ascending=True,inplace=True)\n",
    "attdef.reset_index(drop=True, inplace=True)\n",
    "attdef['def_position']=attdef.index+1\n",
    "attdef.sort_values(by='att', ascending=False,inplace=True)\n",
    "attdef.reset_index(drop=True, inplace=True)\n",
    "attdef['att_position']=attdef.index+1"
   ]
  },
  {
   "cell_type": "code",
   "execution_count": 11,
   "id": "880a4449",
   "metadata": {
    "execution": {
     "iopub.execute_input": "2024-06-10T11:22:08.305834Z",
     "iopub.status.busy": "2024-06-10T11:22:08.305323Z",
     "iopub.status.idle": "2024-06-10T11:22:08.322309Z",
     "shell.execute_reply": "2024-06-10T11:22:08.321229Z"
    },
    "papermill": {
     "duration": 0.040102,
     "end_time": "2024-06-10T11:22:08.325044",
     "exception": false,
     "start_time": "2024-06-10T11:22:08.284942",
     "status": "completed"
    },
    "tags": []
   },
   "outputs": [],
   "source": [
    "import matplotlib.pyplot as plt\n",
    "import pandas as pd\n",
    "\n",
    "def plot_top_att_def(elos, n=10):\n",
    "    \"\"\"\n",
    "    Plot the top teams by attacking and defensive power.\n",
    "\n",
    "    Parameters:\n",
    "    elos (pd.DataFrame): DataFrame containing team ratings.\n",
    "    n (int): Number of top teams to display.\n",
    "    \"\"\"\n",
    "    # Sort elos DataFrame by attacking and defensive ratings\n",
    "    elos_sorted_att = elos.sort_values(by='att', ascending=False).head(n)\n",
    "    elos_sorted_def = elos.sort_values(by='def', ascending=True).head(n)\n",
    "\n",
    "    # Create a color map for both plots\n",
    "    colors_att = plt.cm.viridis(elos_sorted_att['att'] / max(elos_sorted_att['att']))\n",
    "    colors_def = plt.cm.viridis(elos_sorted_def['def'] / max(elos_sorted_def['def']))\n",
    "\n",
    "    # Create subplots\n",
    "    fig, (ax1, ax2) = plt.subplots(1, 2, figsize=(20, 10))\n",
    "\n",
    "    # Plot for attacking ratings\n",
    "    bars_att = ax1.barh(elos_sorted_att['Team'], elos_sorted_att['att'], color=colors_att)\n",
    "    ax1.set_xlabel('Attacking Power', fontsize=14)\n",
    "    ax1.set_title('Top Teams by Attacking Power', fontsize=16, weight='bold')\n",
    "    ax1.invert_yaxis()  # Invert y-axis to display the highest rating at the top\n",
    "    ax1.grid(axis='x', linestyle='--', alpha=0.7)\n",
    "\n",
    "    # Add text annotations for attacking ratings\n",
    "    for bar in bars_att:\n",
    "        ax1.text(\n",
    "            bar.get_width() + 0.01, \n",
    "            bar.get_y() + bar.get_height() / 2, \n",
    "            f'{bar.get_width():.2f}', \n",
    "            ha='left', \n",
    "            va='center',\n",
    "            fontsize=12,\n",
    "            color='black'\n",
    "        )\n",
    "\n",
    "    # Plot for defensive ratings\n",
    "    bars_def = ax2.barh(elos_sorted_def['Team'], elos_sorted_def['def'], color=colors_def)\n",
    "    ax2.set_xlabel('Defensive Power', fontsize=14)\n",
    "    ax2.set_title('Top Teams by Defensive Power', fontsize=16, weight='bold')\n",
    "    ax2.invert_yaxis()  # Invert y-axis to display the highest rating at the top\n",
    "    ax2.grid(axis='x', linestyle='--', alpha=0.7)\n",
    "\n",
    "    # Add text annotations for defensive ratings\n",
    "    for bar in bars_def:\n",
    "        ax2.text(\n",
    "            bar.get_width() + 0.01, \n",
    "            bar.get_y() + bar.get_height() / 2, \n",
    "            f'{bar.get_width():.2f}', \n",
    "            ha='left', \n",
    "            va='center',\n",
    "            fontsize=12,\n",
    "            color='black'\n",
    "        )\n",
    "\n",
    "    # Adjust layout\n",
    "    plt.tight_layout()\n",
    "    plt.show()\n"
   ]
  },
  {
   "cell_type": "code",
   "execution_count": 12,
   "id": "4ccf4d1d",
   "metadata": {
    "execution": {
     "iopub.execute_input": "2024-06-10T11:22:08.365605Z",
     "iopub.status.busy": "2024-06-10T11:22:08.365072Z",
     "iopub.status.idle": "2024-06-10T11:22:09.485570Z",
     "shell.execute_reply": "2024-06-10T11:22:09.484323Z"
    },
    "papermill": {
     "duration": 1.14561,
     "end_time": "2024-06-10T11:22:09.489747",
     "exception": false,
     "start_time": "2024-06-10T11:22:08.344137",
     "status": "completed"
    },
    "tags": []
   },
   "outputs": [
    {
     "data": {
      "image/png": "[encoded data removed]",
      "text/plain": [
       "<Figure size 2000x1000 with 2 Axes>"
      ]
     },
     "metadata": {},
     "output_type": "display_data"
    }
   ],
   "source": [
    "attdef_ranking_europe = attdef[attdef.Team.isin(eurocup_teams)]\n",
    "plot_top_att_def(attdef_ranking_europe,24)"
   ]
  },
  {
   "cell_type": "markdown",
   "id": "220afec5",
   "metadata": {
    "papermill": {
     "duration": 0.02196,
     "end_time": "2024-06-10T11:22:09.534195",
     "exception": false,
     "start_time": "2024-06-10T11:22:09.512235",
     "status": "completed"
    },
    "tags": []
   },
   "source": [
    "Based on this ranking, we can conclude that the teams with the best attack are Germany and Spain. The teams with the best defense are England, Spain, and Italy."
   ]
  },
  {
   "cell_type": "markdown",
   "id": "3d6df2a6",
   "metadata": {
    "papermill": {
     "duration": 0.023154,
     "end_time": "2024-06-10T11:22:09.579979",
     "exception": false,
     "start_time": "2024-06-10T11:22:09.556825",
     "status": "completed"
    },
    "tags": []
   },
   "source": [
    "# Goals Expected and Poisson Distribution"
   ]
  },
  {
   "cell_type": "markdown",
   "id": "7a4c7adf",
   "metadata": {
    "papermill": {
     "duration": 0.082291,
     "end_time": "2024-06-10T11:22:09.684930",
     "exception": false,
     "start_time": "2024-06-10T11:22:09.602639",
     "status": "completed"
    },
    "tags": []
   },
   "source": [
    "The best aspect of this ranking is that we can use it to calculate the expected goals in a match. The expected goals for a team can be calculated as:\n",
    "\n",
    "$$\n",
    "Expected Goals=\n",
    "Attacking Power Team×Defensive Power Opponent$$\n",
    "\n",
    "Additionally, in non-neutral matches, we have to set a parameter for the advantage of the home team. This parameter adjusts the expected goals to account for the home field advantage."
   ]
  },
  {
   "cell_type": "markdown",
   "id": "2b3f5e33",
   "metadata": {
    "papermill": {
     "duration": 0.022886,
     "end_time": "2024-06-10T11:22:09.730516",
     "exception": false,
     "start_time": "2024-06-10T11:22:09.707630",
     "status": "completed"
    },
    "tags": []
   },
   "source": [
    "Let see if the results adjust with Expected goals we predicted, for doing that we consider the results of European tournaments of the last 14 years."
   ]
  },
  {
   "cell_type": "code",
   "execution_count": 13,
   "id": "85736171",
   "metadata": {
    "execution": {
     "iopub.execute_input": "2024-06-10T11:22:09.778570Z",
     "iopub.status.busy": "2024-06-10T11:22:09.778137Z",
     "iopub.status.idle": "2024-06-10T11:22:09.820968Z",
     "shell.execute_reply": "2024-06-10T11:22:09.819601Z"
    },
    "papermill": {
     "duration": 0.070111,
     "end_time": "2024-06-10T11:22:09.823613",
     "exception": false,
     "start_time": "2024-06-10T11:22:09.753502",
     "status": "completed"
    },
    "tags": []
   },
   "outputs": [
    {
     "name": "stdout",
     "output_type": "stream",
     "text": [
      "                  mean  count\n",
      "total_xG_bin                 \n",
      "(1.5, 2.25]   2.249307    361\n",
      "(2.25, 2.5]   2.381963    377\n",
      "(2.5, 2.75]   2.536657    341\n",
      "(2.75, 3.0]   2.944186    215\n",
      "(3.0, 10.0]   3.509146    328\n"
     ]
    }
   ],
   "source": [
    "#Creating the reference dataset\n",
    "df2 = df[(df.date>\"2010-09-01\") & (df.tournament.isin([\"UEFA Euro\",\"UEFA Euro qualification\",\"UEFA Nations League\"]))].copy()\n",
    "\n",
    "# Define the bins\n",
    "bins = np.array([1.5,2.25, 2.5, 2.75, 3,10])  # adjust this to fit your data\n",
    "df2['total_score'] = df2['away_score'] + df2['home_score']\n",
    "df2['total_xG']=df2['XGhome']+df2['XGaway']\n",
    "df2['total_xG_bin'] = pd.cut(df2['total_xG'], bins)\n",
    "\n",
    "# Group by the bin and calculate the mean of the 'Goals' column\n",
    "binned_means = df2.groupby('total_xG_bin')['total_score'].agg([\"mean\",\"count\"])\n",
    "\n",
    "print(binned_means)"
   ]
  },
  {
   "cell_type": "markdown",
   "id": "78568b2d",
   "metadata": {
    "papermill": {
     "duration": 0.022677,
     "end_time": "2024-06-10T11:22:09.869895",
     "exception": false,
     "start_time": "2024-06-10T11:22:09.847218",
     "status": "completed"
    },
    "tags": []
   },
   "source": [
    "We can see that the expected goals we created adjust very well to the real number of goals in the matches. So we can use the poisson distribution to predict the results of the matches"
   ]
  },
  {
   "cell_type": "markdown",
   "id": "4fee4dbd",
   "metadata": {
    "papermill": {
     "duration": 0.02251,
     "end_time": "2024-06-10T11:22:09.914715",
     "exception": false,
     "start_time": "2024-06-10T11:22:09.892205",
     "status": "completed"
    },
    "tags": []
   },
   "source": [
    "The Poisson distribution is defined by the probability mass function:\n",
    "\n",
    "𝑃(𝑋=𝑘)=𝜆𝑘𝑒−𝜆𝑘!\n",
    "\n",
    "where:\n",
    "\n",
    "𝑃(𝑋=𝑘) is the probability of 𝑘 goals being scored, λ is the average number of goals scored in a match.\n",
    "\n",
    "In our context, 𝜆 represents the average number of goals a team is expected to score."
   ]
  },
  {
   "cell_type": "code",
   "execution_count": 14,
   "id": "090c1fcd",
   "metadata": {
    "execution": {
     "iopub.execute_input": "2024-06-10T11:22:09.963036Z",
     "iopub.status.busy": "2024-06-10T11:22:09.962641Z",
     "iopub.status.idle": "2024-06-10T11:22:10.315210Z",
     "shell.execute_reply": "2024-06-10T11:22:10.314172Z"
    },
    "papermill": {
     "duration": 0.380764,
     "end_time": "2024-06-10T11:22:10.318049",
     "exception": false,
     "start_time": "2024-06-10T11:22:09.937285",
     "status": "completed"
    },
    "tags": []
   },
   "outputs": [
    {
     "data": {
      "image/png": "[encoded data removed]",
      "text/plain": [
       "<Figure size 1200x800 with 1 Axes>"
      ]
     },
     "metadata": {},
     "output_type": "display_data"
    }
   ],
   "source": [
    "data = df2['total_score']\n",
    "\n",
    "# Calculate the mean of the data as it will be the lambda (rate parameter) for the Poisson distribution\n",
    "mu = data.mean()\n",
    "\n",
    "# Create a range of numbers from 0 to the maximum number of goals in a match (this will be our x-axis)\n",
    "k = np.arange(0, data.max()+1)\n",
    "\n",
    "# Create a Poisson distribution with the mean obtained\n",
    "poisson_pmf = poisson.pmf(k, mu)\n",
    "\n",
    "plt.figure(figsize=(12,8))\n",
    "\n",
    "# Plot the actual distribution of goals\n",
    "plt.hist(data, bins=k, density=True, alpha=0.7, label='Actual distribution')\n",
    "\n",
    "# Plot the Poisson distribution\n",
    "plt.plot(k, poisson_pmf, 'r-', alpha=0.7, label='Poisson distribution')\n",
    "\n",
    "plt.title('Actual vs Poisson Distribution')\n",
    "plt.xlabel('Number of Goals in a Match')\n",
    "plt.ylabel('Frequency')\n",
    "plt.legend()\n",
    "\n",
    "plt.show()"
   ]
  },
  {
   "cell_type": "markdown",
   "id": "2066a066",
   "metadata": {
    "papermill": {
     "duration": 0.023246,
     "end_time": "2024-06-10T11:22:10.365000",
     "exception": false,
     "start_time": "2024-06-10T11:22:10.341754",
     "status": "completed"
    },
    "tags": []
   },
   "source": [
    "With the utilization of the given distribution, we can use the probabilities to predict the matches."
   ]
  },
  {
   "cell_type": "code",
   "execution_count": 15,
   "id": "71fa373a",
   "metadata": {
    "execution": {
     "iopub.execute_input": "2024-06-10T11:22:10.414267Z",
     "iopub.status.busy": "2024-06-10T11:22:10.413880Z",
     "iopub.status.idle": "2024-06-10T11:22:10.423029Z",
     "shell.execute_reply": "2024-06-10T11:22:10.421904Z"
    },
    "papermill": {
     "duration": 0.037053,
     "end_time": "2024-06-10T11:22:10.425546",
     "exception": false,
     "start_time": "2024-06-10T11:22:10.388493",
     "status": "completed"
    },
    "tags": []
   },
   "outputs": [],
   "source": [
    "def calculate_match_probabilities(team_a_lambda, team_b_lambda, max_goals=6):\n",
    "    # Create a matrix of zeros\n",
    "    matrix = np.zeros((max_goals + 1, max_goals + 1))\n",
    "\n",
    "    # Populate the matrix with probabilities\n",
    "    for i in range(max_goals + 1):\n",
    "        for j in range(max_goals + 1):\n",
    "            matrix[i, j] = poisson.pmf(i, team_a_lambda) * poisson.pmf(j, team_b_lambda)\n",
    "\n",
    "    # Calculate the total goals probabilities\n",
    "    total_goals_prob = [np.sum(np.diag(matrix[::-1], k)) for k in range(-(max_goals-1), max_goals+1)]\n",
    "\n",
    "    # Calculate the probability for the specific result\n",
    "    draw_prob = np.sum(np.diag(matrix))\n",
    "    away_prob = np.sum(np.triu(matrix, 1))\n",
    "    local_prob = np.sum(np.tril(matrix, -1))\n",
    "\n",
    "    return total_goals_prob, draw_prob, away_prob, local_prob\n"
   ]
  },
  {
   "cell_type": "markdown",
   "id": "6d258fe0",
   "metadata": {
    "papermill": {
     "duration": 0.022954,
     "end_time": "2024-06-10T11:22:10.471898",
     "exception": false,
     "start_time": "2024-06-10T11:22:10.448944",
     "status": "completed"
    },
    "tags": []
   },
   "source": [
    "For instance, let's consider the inaugural match of the 2024 Euro between Germany and Scotland. Germany boasts an offensive power of 2.58, while Scotland 1.31."
   ]
  },
  {
   "cell_type": "code",
   "execution_count": 16,
   "id": "a5b0c5d7",
   "metadata": {
    "execution": {
     "iopub.execute_input": "2024-06-10T11:22:10.521622Z",
     "iopub.status.busy": "2024-06-10T11:22:10.521187Z",
     "iopub.status.idle": "2024-06-10T11:22:10.745022Z",
     "shell.execute_reply": "2024-06-10T11:22:10.743921Z"
    },
    "papermill": {
     "duration": 0.252257,
     "end_time": "2024-06-10T11:22:10.747498",
     "exception": false,
     "start_time": "2024-06-10T11:22:10.495241",
     "status": "completed"
    },
    "tags": []
   },
   "outputs": [
    {
     "name": "stdout",
     "output_type": "stream",
     "text": [
      "Probability for Germany: 65.0 %\n",
      "Probability for Scotland: 15.0 %\n",
      "Probability for draw: 19.0 %\n"
     ]
    },
    {
     "data": {
      "image/png": "[encoded data removed]",
      "text/plain": [
       "<Figure size 640x480 with 1 Axes>"
      ]
     },
     "metadata": {},
     "output_type": "display_data"
    }
   ],
   "source": [
    "# Example usage\n",
    "team_a_lambda = 2.581260 * 0.859073  \n",
    "team_b_lambda = 0.739093 * 1.317341\n",
    "total_goals_prob, draw_prob, away_prob, local_prob = calculate_match_probabilities(team_a_lambda, team_b_lambda)\n",
    "\n",
    "# Print the results\n",
    "'''print(\"Total goals probabilities:\")\n",
    "for goals, prob in enumerate(total_goals_prob):\n",
    "    print(f'Probability of total {goals} goals: {prob}')'''\n",
    "\n",
    "\n",
    "print(f\"Probability for Germany: {round(local_prob,2)*100} %\")\n",
    "print(f\"Probability for Scotland: {round(away_prob,2)*100} %\")\n",
    "print(f\"Probability for draw: {round(draw_prob,2)*100} %\")\n",
    "\n",
    "import matplotlib.pyplot as plt\n",
    "# Plot the distribution of possible total goals\n",
    "plt.bar(range(len(total_goals_prob)), total_goals_prob)\n",
    "plt.xlabel('Total Goals')\n",
    "plt.ylabel('Probability')\n",
    "plt.show()"
   ]
  },
  {
   "cell_type": "markdown",
   "id": "55b0df52",
   "metadata": {
    "papermill": {
     "duration": 0.023765,
     "end_time": "2024-06-10T11:22:10.795167",
     "exception": false,
     "start_time": "2024-06-10T11:22:10.771402",
     "status": "completed"
    },
    "tags": []
   },
   "source": [
    "Now it is time to validate if the probabilities given by the poisson distribution are accurate or not"
   ]
  },
  {
   "cell_type": "code",
   "execution_count": 17,
   "id": "43ff7338",
   "metadata": {
    "execution": {
     "iopub.execute_input": "2024-06-10T11:22:10.846406Z",
     "iopub.status.busy": "2024-06-10T11:22:10.846000Z",
     "iopub.status.idle": "2024-06-10T11:22:53.784816Z",
     "shell.execute_reply": "2024-06-10T11:22:53.783768Z"
    },
    "papermill": {
     "duration": 42.967497,
     "end_time": "2024-06-10T11:22:53.787518",
     "exception": false,
     "start_time": "2024-06-10T11:22:10.820021",
     "status": "completed"
    },
    "tags": []
   },
   "outputs": [],
   "source": [
    "df_euro=df2.copy()\n",
    "# Function to apply to each row of the DataFrame\n",
    "def apply_calculation(row):\n",
    "    \n",
    "    total_goals_prob, draw_prob, away_prob, local_prob = calculate_match_probabilities(row['XGhome'], row['XGaway'])\n",
    "    return pd.Series({\n",
    "        'total_goals_prob': total_goals_prob,\n",
    "        'draw_prob': draw_prob,\n",
    "        'away_prob': away_prob,\n",
    "        'local_prob': local_prob\n",
    "    })\n",
    "\n",
    "# Apply the function to each row\n",
    "calculated_variables = df_euro.apply(apply_calculation, axis=1)\n",
    "\n",
    "# Concatenate the result with the original DataFrame\n",
    "matches_df = pd.concat([df_euro, calculated_variables], axis=1)\n",
    "\n",
    "df_euro[['total_goals_prob', 'draw_prob', 'away_prob', 'local_prob']] = df_euro[['XGhome','XGaway']].apply(apply_calculation, axis=1)\n",
    "\n",
    "# Iterate over each row in the DataFrame\n",
    "for index, row in df_euro.iterrows():\n",
    "    # Iterate over each element in the 'total_goals_prob' list\n",
    "    for i, prob in enumerate(row['total_goals_prob']):\n",
    "        # Create new column with the name 'prob_index_goals_i' and assign the corresponding value\n",
    "        df_euro.at[index, f'prob_index_goals_{i}'] = prob"
   ]
  },
  {
   "cell_type": "code",
   "execution_count": 18,
   "id": "a6bd30b0",
   "metadata": {
    "execution": {
     "iopub.execute_input": "2024-06-10T11:22:53.840527Z",
     "iopub.status.busy": "2024-06-10T11:22:53.839622Z",
     "iopub.status.idle": "2024-06-10T11:22:54.303826Z",
     "shell.execute_reply": "2024-06-10T11:22:54.302698Z"
    },
    "papermill": {
     "duration": 0.493911,
     "end_time": "2024-06-10T11:22:54.306614",
     "exception": false,
     "start_time": "2024-06-10T11:22:53.812703",
     "status": "completed"
    },
    "tags": []
   },
   "outputs": [
    {
     "data": {
      "text/plain": [
       "<Figure size 1200x600 with 0 Axes>"
      ]
     },
     "metadata": {},
     "output_type": "display_data"
    },
    {
     "data": {
      "image/png": "[encoded data removed]",
      "text/plain": [
       "<Figure size 640x480 with 1 Axes>"
      ]
     },
     "metadata": {},
     "output_type": "display_data"
    }
   ],
   "source": [
    "# Compute the actual outcome based on the home and away scores\n",
    "df_euro['result'] = np.where(df_euro['home_score'] > df_euro['away_score'], 'home_win',\n",
    "                                 np.where(df_euro['home_score'] == df_euro['away_score'], 'draw', 'away_win'))\n",
    "\n",
    "df_euro['home_win_flag'] = np.where(df_euro['result']=='home_win', 1,0)\n",
    "df_euro['draw_flag'] = np.where(df_euro['result']=='draw', 1,0)\n",
    "df_euro['away_win_flag'] = np.where(df_euro['result']=='away_win', 1,0)\n",
    "# Define bins for grouping based on predicted probabilities (adjust as needed)\n",
    "bins = [0, 0.2, 0.4,0.6, 0.8,1]\n",
    "\n",
    "# Create a new column indicating the bin for each match based on predicted probabilities\n",
    "df_euro['probability_bin'] = pd.cut(df_euro['local_prob'], bins=bins)\n",
    "\n",
    "# Group the DataFrame by the probability bins and compute the percentage of actual outcomes within each group\n",
    "result_distribution = df_euro.groupby('probability_bin')['result'].value_counts(normalize=True).unstack() * 100\n",
    "\n",
    "# Plotting the result distribution based on home probabilities\n",
    "plt.figure(figsize=(12, 6))\n",
    "result_distribution.plot(kind='bar', stacked=True, cmap='viridis')\n",
    "plt.title('Result Distribution Based on Home Probabilities')\n",
    "plt.xlabel('Home Probability Bins')\n",
    "plt.ylabel('Percentage')\n",
    "plt.xticks(rotation=45)\n",
    "plt.legend(title='Outcome')\n",
    "plt.tight_layout()"
   ]
  },
  {
   "cell_type": "code",
   "execution_count": 19,
   "id": "fbad4bda",
   "metadata": {
    "execution": {
     "iopub.execute_input": "2024-06-10T11:22:54.360074Z",
     "iopub.status.busy": "2024-06-10T11:22:54.358864Z",
     "iopub.status.idle": "2024-06-10T11:22:54.623745Z",
     "shell.execute_reply": "2024-06-10T11:22:54.622678Z"
    },
    "papermill": {
     "duration": 0.295152,
     "end_time": "2024-06-10T11:22:54.627041",
     "exception": false,
     "start_time": "2024-06-10T11:22:54.331889",
     "status": "completed"
    },
    "tags": []
   },
   "outputs": [
    {
     "data": {
      "image/png": "[encoded data removed]",
      "text/plain": [
       "<Figure size 800x600 with 1 Axes>"
      ]
     },
     "metadata": {},
     "output_type": "display_data"
    },
    {
     "name": "stdout",
     "output_type": "stream",
     "text": [
      "AUC: 0.81\n"
     ]
    }
   ],
   "source": [
    "from sklearn.metrics import roc_curve, roc_auc_score\n",
    "import matplotlib.pyplot as plt\n",
    "\n",
    "# Compute ROC curve\n",
    "fpr, tpr, thresholds = roc_curve(df_euro['home_win_flag'], df_euro['local_prob'])\n",
    "\n",
    "# Compute AUC\n",
    "auc = roc_auc_score(df_euro['home_win_flag'], df_euro['local_prob'])\n",
    "\n",
    "# Plot ROC curve\n",
    "plt.figure(figsize=(8, 6))\n",
    "plt.plot(fpr, tpr, color='blue', lw=2, label=f'AUC = {auc:.2f}')\n",
    "plt.plot([0, 1], [0, 1], color='gray', linestyle='--')\n",
    "plt.xlabel('False Positive Rate')\n",
    "plt.ylabel('True Positive Rate')\n",
    "plt.title('ROC Curve')\n",
    "plt.legend(loc='lower right')\n",
    "plt.grid(True)\n",
    "plt.show()\n",
    "\n",
    "print(f\"AUC: {auc:.2f}\")"
   ]
  },
  {
   "cell_type": "markdown",
   "id": "87ff3e1c",
   "metadata": {
    "papermill": {
     "duration": 0.025567,
     "end_time": "2024-06-10T11:22:54.678009",
     "exception": false,
     "start_time": "2024-06-10T11:22:54.652442",
     "status": "completed"
    },
    "tags": []
   },
   "source": [
    "It can be seen that the probabilities for home winning are working good."
   ]
  },
  {
   "cell_type": "code",
   "execution_count": 20,
   "id": "8c51e201",
   "metadata": {
    "execution": {
     "iopub.execute_input": "2024-06-10T11:22:54.730799Z",
     "iopub.status.busy": "2024-06-10T11:22:54.730420Z",
     "iopub.status.idle": "2024-06-10T11:22:54.756047Z",
     "shell.execute_reply": "2024-06-10T11:22:54.754770Z"
    },
    "papermill": {
     "duration": 0.05497,
     "end_time": "2024-06-10T11:22:54.758452",
     "exception": false,
     "start_time": "2024-06-10T11:22:54.703482",
     "status": "completed"
    },
    "tags": []
   },
   "outputs": [
    {
     "name": "stdout",
     "output_type": "stream",
     "text": [
      "result            away_win       draw   home_win\n",
      "probability_bin                                 \n",
      "(0.0, 0.15]       7.984791  13.498099  78.517110\n",
      "(0.15, 0.3]      25.454545  27.727273  46.818182\n",
      "(0.3, 0.6]       53.740157  25.787402  20.472441\n",
      "(0.6, 1.0]       88.513514   7.432432   4.054054\n",
      "AUC: 0.82\n"
     ]
    }
   ],
   "source": [
    "# Create a new column indicating the bin for each match based on predicted probabilities\n",
    "bins = [0, 0.15, 0.3,0.6,1]\n",
    "df_euro['probability_bin'] = pd.cut(df_euro['away_prob'], bins=bins)\n",
    "\n",
    "# Group the DataFrame by the probability bins and compute the percentage of actual outcomes within each group\n",
    "result_distribution = df_euro.groupby('probability_bin')['result'].value_counts(normalize=True).unstack() * 100\n",
    "print(result_distribution)\n",
    "# Compute AUC\n",
    "auc_away = roc_auc_score(df_euro['away_win_flag'], df_euro['away_prob'])\n",
    "\n",
    "print(f\"AUC: {auc_away:.2f}\")"
   ]
  },
  {
   "cell_type": "markdown",
   "id": "95c42176",
   "metadata": {
    "papermill": {
     "duration": 0.02602,
     "end_time": "2024-06-10T11:22:54.810811",
     "exception": false,
     "start_time": "2024-06-10T11:22:54.784791",
     "status": "completed"
    },
    "tags": []
   },
   "source": [
    "It can be said the same for the away probabilities, \n",
    "so we can conclude that this predictions are relative good for the matches in Euro."
   ]
  },
  {
   "cell_type": "markdown",
   "id": "17c3872d",
   "metadata": {
    "papermill": {
     "duration": 0.026225,
     "end_time": "2024-06-10T11:22:54.863446",
     "exception": false,
     "start_time": "2024-06-10T11:22:54.837221",
     "status": "completed"
    },
    "tags": []
   },
   "source": [
    "# 2024 Euro Prediction"
   ]
  },
  {
   "cell_type": "markdown",
   "id": "9054eefc",
   "metadata": {
    "papermill": {
     "duration": 0.026738,
     "end_time": "2024-06-10T11:22:54.917021",
     "exception": false,
     "start_time": "2024-06-10T11:22:54.890283",
     "status": "completed"
    },
    "tags": []
   },
   "source": [
    "Once we have the probabilities, we can finally use it to predict the results of the 2024 Euro. Let see it."
   ]
  },
  {
   "cell_type": "code",
   "execution_count": 21,
   "id": "b6f4d713",
   "metadata": {
    "execution": {
     "iopub.execute_input": "2024-06-10T11:22:54.971803Z",
     "iopub.status.busy": "2024-06-10T11:22:54.971394Z",
     "iopub.status.idle": "2024-06-10T11:22:54.989579Z",
     "shell.execute_reply": "2024-06-10T11:22:54.988573Z"
    },
    "papermill": {
     "duration": 0.048261,
     "end_time": "2024-06-10T11:22:54.992391",
     "exception": false,
     "start_time": "2024-06-10T11:22:54.944130",
     "status": "completed"
    },
    "tags": []
   },
   "outputs": [],
   "source": [
    "matches_data = [\n",
    "    # Grupo A\n",
    "    {\"Grupo\": \"A\", \"Home_Team\": \"Germany\", \"Away_Team\": \"Scotland\"},\n",
    "    {\"Grupo\": \"A\", \"Home_Team\": \"Hungary\", \"Away_Team\": \"Switzerland\"},\n",
    "    {\"Grupo\": \"A\", \"Home_Team\": \"Germany\", \"Away_Team\": \"Hungary\"},\n",
    "    {\"Grupo\": \"A\", \"Home_Team\": \"Scotland\", \"Away_Team\": \"Switzerland\"},\n",
    "    {\"Grupo\": \"A\", \"Home_Team\": \"Switzerland\", \"Away_Team\": \"Germany\"},\n",
    "    {\"Grupo\": \"A\", \"Home_Team\": \"Scotland\", \"Away_Team\": \"Hungary\"},\n",
    "    # Grupo B\n",
    "    {\"Grupo\": \"B\", \"Home_Team\": \"Spain\", \"Away_Team\": \"Croatia\"},\n",
    "    {\"Grupo\": \"B\", \"Home_Team\": \"Italy\", \"Away_Team\": \"Albania\"},\n",
    "    {\"Grupo\": \"B\", \"Home_Team\": \"Croatia\", \"Away_Team\": \"Albania\"},\n",
    "    {\"Grupo\": \"B\", \"Home_Team\": \"Spain\", \"Away_Team\": \"Italy\"},\n",
    "    {\"Grupo\": \"B\", \"Home_Team\": \"Albania\", \"Away_Team\": \"Spain\"},\n",
    "    {\"Grupo\": \"B\", \"Home_Team\": \"Croatia\", \"Away_Team\": \"Italy\"},\n",
    "    # Grupo C\n",
    "    {\"Grupo\": \"C\", \"Home_Team\": \"Slovenia\", \"Away_Team\": \"Denmark\"},\n",
    "    {\"Grupo\": \"C\", \"Home_Team\": \"Serbia\", \"Away_Team\": \"England\"},\n",
    "    {\"Grupo\": \"C\", \"Home_Team\": \"Slovenia\", \"Away_Team\": \"Serbia\"},\n",
    "    {\"Grupo\": \"C\", \"Home_Team\": \"Denmark\", \"Away_Team\": \"England\"},\n",
    "    {\"Grupo\": \"C\", \"Home_Team\": \"England\", \"Away_Team\": \"Slovenia\"},\n",
    "    {\"Grupo\": \"C\", \"Home_Team\": \"Denmark\", \"Away_Team\": \"Serbia\"},\n",
    "    # Grupo D\n",
    "    {\"Grupo\": \"D\", \"Home_Team\": \"Poland\", \"Away_Team\": \"Netherlands\"},\n",
    "    {\"Grupo\": \"D\", \"Home_Team\": \"Austria\", \"Away_Team\": \"France\"},\n",
    "    {\"Grupo\": \"D\", \"Home_Team\": \"Poland\", \"Away_Team\": \"Austria\"},\n",
    "    {\"Grupo\": \"D\", \"Home_Team\": \"Netherlands\", \"Away_Team\": \"France\"},\n",
    "    {\"Grupo\": \"D\", \"Home_Team\": \"Netherlands\", \"Away_Team\": \"Austria\"},\n",
    "    {\"Grupo\": \"D\", \"Home_Team\": \"France\", \"Away_Team\": \"Poland\"},\n",
    "    # Grupo E\n",
    "    {\"Grupo\": \"E\", \"Home_Team\": \"Romania\", \"Away_Team\": \"Ukraine\"},\n",
    "    {\"Grupo\": \"E\", \"Home_Team\": \"Belgium\", \"Away_Team\": \"Slovakia\"},\n",
    "    {\"Grupo\": \"E\", \"Home_Team\": \"Slovakia\", \"Away_Team\": \"Ukraine\"},\n",
    "    {\"Grupo\": \"E\", \"Home_Team\": \"Belgium\", \"Away_Team\": \"Romania\"},\n",
    "    {\"Grupo\": \"E\", \"Home_Team\": \"Slovakia\", \"Away_Team\": \"Romania\"},\n",
    "    {\"Grupo\": \"E\", \"Home_Team\": \"Ukraine\", \"Away_Team\": \"Belgium\"},\n",
    "    # Grupo F\n",
    "    {\"Grupo\": \"F\", \"Home_Team\": \"Turkey\", \"Away_Team\": \"Georgia\"},\n",
    "    {\"Grupo\": \"F\", \"Home_Team\": \"Portugal\", \"Away_Team\": \"Czech Republic\"},\n",
    "    {\"Grupo\": \"F\", \"Home_Team\": \"Georgia\", \"Away_Team\": \"Czech Republic\"},\n",
    "    {\"Grupo\": \"F\", \"Home_Team\": \"Turkey\", \"Away_Team\": \"Portugal\"},\n",
    "    {\"Grupo\": \"F\", \"Home_Team\": \"Georgia\", \"Away_Team\": \"Portugal\"},\n",
    "    {\"Grupo\": \"F\", \"Home_Team\": \"Czech Republic\", \"Away_Team\": \"Turkey\"},\n",
    "]\n",
    "\n",
    "# Create a dataframe\n",
    "matches_df = pd.DataFrame(matches_data)"
   ]
  },
  {
   "cell_type": "code",
   "execution_count": 22,
   "id": "461fbb2f",
   "metadata": {
    "execution": {
     "iopub.execute_input": "2024-06-10T11:22:55.046472Z",
     "iopub.status.busy": "2024-06-10T11:22:55.045574Z",
     "iopub.status.idle": "2024-06-10T11:22:55.061444Z",
     "shell.execute_reply": "2024-06-10T11:22:55.060301Z"
    },
    "papermill": {
     "duration": 0.045798,
     "end_time": "2024-06-10T11:22:55.063995",
     "exception": false,
     "start_time": "2024-06-10T11:22:55.018197",
     "status": "completed"
    },
    "tags": []
   },
   "outputs": [],
   "source": [
    "# Merge the dataframes based on the \"Home Team\" column and rename columns with prefix\n",
    "merged_df = pd.merge(matches_df, attdef[[\"Team\", \"att\", \"def\"]].add_prefix('Home_'),left_on=\"Home_Team\", right_on=\"Home_Team\", how=\"left\")\n",
    "group_matches = pd.merge(merged_df, attdef[[\"Team\", \"att\", \"def\"]].add_prefix('Away_'),left_on=\"Away_Team\", right_on=\"Away_Team\", how=\"left\")"
   ]
  },
  {
   "cell_type": "code",
   "execution_count": 23,
   "id": "9a8915c0",
   "metadata": {
    "execution": {
     "iopub.execute_input": "2024-06-10T11:22:55.118098Z",
     "iopub.status.busy": "2024-06-10T11:22:55.117688Z",
     "iopub.status.idle": "2024-06-10T11:22:55.634474Z",
     "shell.execute_reply": "2024-06-10T11:22:55.633379Z"
    },
    "papermill": {
     "duration": 0.547096,
     "end_time": "2024-06-10T11:22:55.637269",
     "exception": false,
     "start_time": "2024-06-10T11:22:55.090173",
     "status": "completed"
    },
    "tags": []
   },
   "outputs": [],
   "source": [
    "#Computing the expected goals\n",
    "group_matches['XGhome']=group_matches['Home_att']*group_matches['Away_def']\n",
    "group_matches['XGaway']=group_matches['Home_def']*group_matches['Away_att']\n",
    "\n",
    "group_matches[['total_goals_prob', 'draw_prob', 'away_prob', 'local_prob']] = group_matches[['XGhome','XGaway']].apply(apply_calculation, axis=1)\n",
    "group_matches.drop(\"total_goals_prob\",axis=1, inplace=True)"
   ]
  },
  {
   "cell_type": "code",
   "execution_count": 24,
   "id": "57d56ce9",
   "metadata": {
    "execution": {
     "iopub.execute_input": "2024-06-10T11:22:55.691856Z",
     "iopub.status.busy": "2024-06-10T11:22:55.691467Z",
     "iopub.status.idle": "2024-06-10T11:22:55.706067Z",
     "shell.execute_reply": "2024-06-10T11:22:55.705041Z"
    },
    "papermill": {
     "duration": 0.045862,
     "end_time": "2024-06-10T11:22:55.708983",
     "exception": false,
     "start_time": "2024-06-10T11:22:55.663121",
     "status": "completed"
    },
    "tags": []
   },
   "outputs": [],
   "source": [
    "# Define a function to determine the result based on probabilities\n",
    "def determine_result_random(row):\n",
    "    random_number = np.random.random()\n",
    "    if random_number < row[\"draw_prob\"]:\n",
    "        return \"Draw\"\n",
    "    elif random_number < row[\"draw_prob\"] + row[\"away_prob\"]:\n",
    "        return row[\"Away_Team\"]\n",
    "    else:\n",
    "        return row[\"Home_Team\"]\n",
    "    \n",
    "\n",
    "def determine_result(row):\n",
    "    max_prob = max(row[\"draw_prob\"], row[\"away_prob\"], row[\"local_prob\"])\n",
    "    if row[\"draw_prob\"] == max_prob:\n",
    "        return \"Draw\"\n",
    "    elif row[\"away_prob\"] == max_prob:\n",
    "        return row[\"Away_Team\"]\n",
    "    else:\n",
    "        return row[\"Home_Team\"]\n",
    "    \n",
    "def determine_result_knockout(row):\n",
    "    if row[\"away_prob\"] >row[\"home_prob\"]:\n",
    "        return row[\"Away_Team\"]\n",
    "    else:\n",
    "        return row[\"Home_Team\"]\n",
    "    \n",
    "def determine_result_knockout_random(row):\n",
    "    random_number = np.random.random()\n",
    "    if random_number < row[\"draw_prob\"]:\n",
    "        random_number2 = np.random.random()\n",
    "        if random_number < 0.5:\n",
    "            return row[\"Away_Team\"]\n",
    "        else:\n",
    "            return row[\"Home_Team\"]\n",
    "    elif random_number < row[\"draw_prob\"] + row[\"away_prob\"]:\n",
    "        return row[\"Away_Team\"]\n",
    "    else:\n",
    "        return row[\"Home_Team\"]\n",
    "    \n",
    "# Apply the function to create the \"Results\" column\n",
    "group_matches[\"Result\"] = group_matches.apply(determine_result, axis=1)\n"
   ]
  },
  {
   "cell_type": "markdown",
   "id": "9fcf6f6a",
   "metadata": {
    "papermill": {
     "duration": 0.025471,
     "end_time": "2024-06-10T11:22:55.760165",
     "exception": false,
     "start_time": "2024-06-10T11:22:55.734694",
     "status": "completed"
    },
    "tags": []
   },
   "source": [
    "We can see the predictions for each match, based on the expexted goals, we simulate the number of goals scored by each team in a match."
   ]
  },
  {
   "cell_type": "code",
   "execution_count": 25,
   "id": "969aecd6",
   "metadata": {
    "execution": {
     "iopub.execute_input": "2024-06-10T11:22:55.814214Z",
     "iopub.status.busy": "2024-06-10T11:22:55.813275Z",
     "iopub.status.idle": "2024-06-10T11:22:55.832482Z",
     "shell.execute_reply": "2024-06-10T11:22:55.831371Z"
    },
    "papermill": {
     "duration": 0.049574,
     "end_time": "2024-06-10T11:22:55.835495",
     "exception": false,
     "start_time": "2024-06-10T11:22:55.785921",
     "status": "completed"
    },
    "tags": []
   },
   "outputs": [
    {
     "data": {
      "text/html": [
       "<div>\n",
       "<style scoped>\n",
       "    .dataframe tbody tr th:only-of-type {\n",
       "        vertical-align: middle;\n",
       "    }\n",
       "\n",
       "    .dataframe tbody tr th {\n",
       "        vertical-align: top;\n",
       "    }\n",
       "\n",
       "    .dataframe thead th {\n",
       "        text-align: right;\n",
       "    }\n",
       "</style>\n",
       "<table border=\"1\" class=\"dataframe\">\n",
       "  <thead>\n",
       "    <tr style=\"text-align: right;\">\n",
       "      <th></th>\n",
       "      <th>Home_Team</th>\n",
       "      <th>Away_Team</th>\n",
       "      <th>local_prob</th>\n",
       "      <th>draw_prob</th>\n",
       "      <th>away_prob</th>\n",
       "      <th>XGhome</th>\n",
       "      <th>XGaway</th>\n",
       "      <th>Result</th>\n",
       "    </tr>\n",
       "  </thead>\n",
       "  <tbody>\n",
       "    <tr>\n",
       "      <th>0</th>\n",
       "      <td>Germany</td>\n",
       "      <td>Scotland</td>\n",
       "      <td>0.647934</td>\n",
       "      <td>0.191033</td>\n",
       "      <td>0.153192</td>\n",
       "      <td>2.217490</td>\n",
       "      <td>0.973638</td>\n",
       "      <td>Germany</td>\n",
       "    </tr>\n",
       "    <tr>\n",
       "      <th>1</th>\n",
       "      <td>Hungary</td>\n",
       "      <td>Switzerland</td>\n",
       "      <td>0.256316</td>\n",
       "      <td>0.251095</td>\n",
       "      <td>0.491217</td>\n",
       "      <td>1.067382</td>\n",
       "      <td>1.580824</td>\n",
       "      <td>Switzerland</td>\n",
       "    </tr>\n",
       "    <tr>\n",
       "      <th>2</th>\n",
       "      <td>Germany</td>\n",
       "      <td>Hungary</td>\n",
       "      <td>0.664228</td>\n",
       "      <td>0.180164</td>\n",
       "      <td>0.144909</td>\n",
       "      <td>2.358002</td>\n",
       "      <td>1.003952</td>\n",
       "      <td>Germany</td>\n",
       "    </tr>\n",
       "    <tr>\n",
       "      <th>3</th>\n",
       "      <td>Scotland</td>\n",
       "      <td>Switzerland</td>\n",
       "      <td>0.263436</td>\n",
       "      <td>0.260428</td>\n",
       "      <td>0.475153</td>\n",
       "      <td>1.035153</td>\n",
       "      <td>1.486623</td>\n",
       "      <td>Switzerland</td>\n",
       "    </tr>\n",
       "    <tr>\n",
       "      <th>4</th>\n",
       "      <td>Switzerland</td>\n",
       "      <td>Germany</td>\n",
       "      <td>0.238047</td>\n",
       "      <td>0.214158</td>\n",
       "      <td>0.542545</td>\n",
       "      <td>1.279000</td>\n",
       "      <td>2.028327</td>\n",
       "      <td>Germany</td>\n",
       "    </tr>\n",
       "    <tr>\n",
       "      <th>5</th>\n",
       "      <td>Scotland</td>\n",
       "      <td>Hungary</td>\n",
       "      <td>0.369335</td>\n",
       "      <td>0.278607</td>\n",
       "      <td>0.351590</td>\n",
       "      <td>1.203402</td>\n",
       "      <td>1.166927</td>\n",
       "      <td>Scotland</td>\n",
       "    </tr>\n",
       "  </tbody>\n",
       "</table>\n",
       "</div>"
      ],
      "text/plain": [
       "     Home_Team    Away_Team  local_prob  draw_prob  away_prob    XGhome  \\\n",
       "0      Germany     Scotland    0.647934   0.191033   0.153192  2.217490   \n",
       "1      Hungary  Switzerland    0.256316   0.251095   0.491217  1.067382   \n",
       "2      Germany      Hungary    0.664228   0.180164   0.144909  2.358002   \n",
       "3     Scotland  Switzerland    0.263436   0.260428   0.475153  1.035153   \n",
       "4  Switzerland      Germany    0.238047   0.214158   0.542545  1.279000   \n",
       "5     Scotland      Hungary    0.369335   0.278607   0.351590  1.203402   \n",
       "\n",
       "     XGaway       Result  \n",
       "0  0.973638      Germany  \n",
       "1  1.580824  Switzerland  \n",
       "2  1.003952      Germany  \n",
       "3  1.486623  Switzerland  \n",
       "4  2.028327      Germany  \n",
       "5  1.166927     Scotland  "
      ]
     },
     "execution_count": 25,
     "metadata": {},
     "output_type": "execute_result"
    }
   ],
   "source": [
    "group_matches[group_matches.Grupo==\"A\"][[\"Home_Team\",\"Away_Team\", \"local_prob\",\"draw_prob\",\"away_prob\",\"XGhome\",\"XGaway\",\"Result\"]]"
   ]
  },
  {
   "cell_type": "code",
   "execution_count": 26,
   "id": "dfb484bc",
   "metadata": {
    "execution": {
     "iopub.execute_input": "2024-06-10T11:22:55.902437Z",
     "iopub.status.busy": "2024-06-10T11:22:55.902048Z",
     "iopub.status.idle": "2024-06-10T11:22:55.921195Z",
     "shell.execute_reply": "2024-06-10T11:22:55.919944Z"
    },
    "papermill": {
     "duration": 0.052752,
     "end_time": "2024-06-10T11:22:55.923829",
     "exception": false,
     "start_time": "2024-06-10T11:22:55.871077",
     "status": "completed"
    },
    "tags": []
   },
   "outputs": [
    {
     "data": {
      "text/html": [
       "<div>\n",
       "<style scoped>\n",
       "    .dataframe tbody tr th:only-of-type {\n",
       "        vertical-align: middle;\n",
       "    }\n",
       "\n",
       "    .dataframe tbody tr th {\n",
       "        vertical-align: top;\n",
       "    }\n",
       "\n",
       "    .dataframe thead th {\n",
       "        text-align: right;\n",
       "    }\n",
       "</style>\n",
       "<table border=\"1\" class=\"dataframe\">\n",
       "  <thead>\n",
       "    <tr style=\"text-align: right;\">\n",
       "      <th></th>\n",
       "      <th>Home_Team</th>\n",
       "      <th>Away_Team</th>\n",
       "      <th>local_prob</th>\n",
       "      <th>draw_prob</th>\n",
       "      <th>away_prob</th>\n",
       "      <th>XGhome</th>\n",
       "      <th>XGaway</th>\n",
       "      <th>Result</th>\n",
       "    </tr>\n",
       "  </thead>\n",
       "  <tbody>\n",
       "    <tr>\n",
       "      <th>6</th>\n",
       "      <td>Spain</td>\n",
       "      <td>Croatia</td>\n",
       "      <td>0.526335</td>\n",
       "      <td>0.248955</td>\n",
       "      <td>0.223252</td>\n",
       "      <td>1.612466</td>\n",
       "      <td>0.954341</td>\n",
       "      <td>Spain</td>\n",
       "    </tr>\n",
       "    <tr>\n",
       "      <th>7</th>\n",
       "      <td>Italy</td>\n",
       "      <td>Albania</td>\n",
       "      <td>0.680615</td>\n",
       "      <td>0.221054</td>\n",
       "      <td>0.096250</td>\n",
       "      <td>1.732209</td>\n",
       "      <td>0.477044</td>\n",
       "      <td>Italy</td>\n",
       "    </tr>\n",
       "    <tr>\n",
       "      <th>8</th>\n",
       "      <td>Croatia</td>\n",
       "      <td>Albania</td>\n",
       "      <td>0.666548</td>\n",
       "      <td>0.217790</td>\n",
       "      <td>0.113112</td>\n",
       "      <td>1.797211</td>\n",
       "      <td>0.578266</td>\n",
       "      <td>Croatia</td>\n",
       "    </tr>\n",
       "    <tr>\n",
       "      <th>9</th>\n",
       "      <td>Spain</td>\n",
       "      <td>Italy</td>\n",
       "      <td>0.461269</td>\n",
       "      <td>0.279594</td>\n",
       "      <td>0.258626</td>\n",
       "      <td>1.330214</td>\n",
       "      <td>0.919824</td>\n",
       "      <td>Spain</td>\n",
       "    </tr>\n",
       "    <tr>\n",
       "      <th>10</th>\n",
       "      <td>Albania</td>\n",
       "      <td>Spain</td>\n",
       "      <td>0.053148</td>\n",
       "      <td>0.138854</td>\n",
       "      <td>0.796058</td>\n",
       "      <td>0.459740</td>\n",
       "      <td>2.414183</td>\n",
       "      <td>Spain</td>\n",
       "    </tr>\n",
       "    <tr>\n",
       "      <th>11</th>\n",
       "      <td>Croatia</td>\n",
       "      <td>Italy</td>\n",
       "      <td>0.310482</td>\n",
       "      <td>0.294210</td>\n",
       "      <td>0.395027</td>\n",
       "      <td>0.990263</td>\n",
       "      <td>1.156966</td>\n",
       "      <td>Italy</td>\n",
       "    </tr>\n",
       "  </tbody>\n",
       "</table>\n",
       "</div>"
      ],
      "text/plain": [
       "   Home_Team Away_Team  local_prob  draw_prob  away_prob    XGhome    XGaway  \\\n",
       "6      Spain   Croatia    0.526335   0.248955   0.223252  1.612466  0.954341   \n",
       "7      Italy   Albania    0.680615   0.221054   0.096250  1.732209  0.477044   \n",
       "8    Croatia   Albania    0.666548   0.217790   0.113112  1.797211  0.578266   \n",
       "9      Spain     Italy    0.461269   0.279594   0.258626  1.330214  0.919824   \n",
       "10   Albania     Spain    0.053148   0.138854   0.796058  0.459740  2.414183   \n",
       "11   Croatia     Italy    0.310482   0.294210   0.395027  0.990263  1.156966   \n",
       "\n",
       "     Result  \n",
       "6     Spain  \n",
       "7     Italy  \n",
       "8   Croatia  \n",
       "9     Spain  \n",
       "10    Spain  \n",
       "11    Italy  "
      ]
     },
     "execution_count": 26,
     "metadata": {},
     "output_type": "execute_result"
    }
   ],
   "source": [
    "group_matches[group_matches.Grupo==\"B\"][[\"Home_Team\",\"Away_Team\", \"local_prob\",\"draw_prob\",\"away_prob\",\"XGhome\",\"XGaway\",\"Result\"]]"
   ]
  },
  {
   "cell_type": "code",
   "execution_count": 27,
   "id": "18c3e3e1",
   "metadata": {
    "execution": {
     "iopub.execute_input": "2024-06-10T11:22:55.984309Z",
     "iopub.status.busy": "2024-06-10T11:22:55.983881Z",
     "iopub.status.idle": "2024-06-10T11:22:56.003353Z",
     "shell.execute_reply": "2024-06-10T11:22:56.002130Z"
    },
    "papermill": {
     "duration": 0.054585,
     "end_time": "2024-06-10T11:22:56.005710",
     "exception": false,
     "start_time": "2024-06-10T11:22:55.951125",
     "status": "completed"
    },
    "tags": []
   },
   "outputs": [
    {
     "data": {
      "text/html": [
       "<div>\n",
       "<style scoped>\n",
       "    .dataframe tbody tr th:only-of-type {\n",
       "        vertical-align: middle;\n",
       "    }\n",
       "\n",
       "    .dataframe tbody tr th {\n",
       "        vertical-align: top;\n",
       "    }\n",
       "\n",
       "    .dataframe thead th {\n",
       "        text-align: right;\n",
       "    }\n",
       "</style>\n",
       "<table border=\"1\" class=\"dataframe\">\n",
       "  <thead>\n",
       "    <tr style=\"text-align: right;\">\n",
       "      <th></th>\n",
       "      <th>Home_Team</th>\n",
       "      <th>Away_Team</th>\n",
       "      <th>local_prob</th>\n",
       "      <th>draw_prob</th>\n",
       "      <th>away_prob</th>\n",
       "      <th>XGhome</th>\n",
       "      <th>XGaway</th>\n",
       "      <th>Result</th>\n",
       "    </tr>\n",
       "  </thead>\n",
       "  <tbody>\n",
       "    <tr>\n",
       "      <th>12</th>\n",
       "      <td>Slovenia</td>\n",
       "      <td>Denmark</td>\n",
       "      <td>0.194014</td>\n",
       "      <td>0.267594</td>\n",
       "      <td>0.537599</td>\n",
       "      <td>0.754194</td>\n",
       "      <td>1.455328</td>\n",
       "      <td>Denmark</td>\n",
       "    </tr>\n",
       "    <tr>\n",
       "      <th>13</th>\n",
       "      <td>Serbia</td>\n",
       "      <td>England</td>\n",
       "      <td>0.154765</td>\n",
       "      <td>0.205936</td>\n",
       "      <td>0.634500</td>\n",
       "      <td>0.877082</td>\n",
       "      <td>2.018616</td>\n",
       "      <td>England</td>\n",
       "    </tr>\n",
       "    <tr>\n",
       "      <th>14</th>\n",
       "      <td>Slovenia</td>\n",
       "      <td>Serbia</td>\n",
       "      <td>0.271654</td>\n",
       "      <td>0.256830</td>\n",
       "      <td>0.470404</td>\n",
       "      <td>1.084522</td>\n",
       "      <td>1.513703</td>\n",
       "      <td>Serbia</td>\n",
       "    </tr>\n",
       "    <tr>\n",
       "      <th>15</th>\n",
       "      <td>Denmark</td>\n",
       "      <td>England</td>\n",
       "      <td>0.225589</td>\n",
       "      <td>0.273130</td>\n",
       "      <td>0.500620</td>\n",
       "      <td>0.843258</td>\n",
       "      <td>1.403778</td>\n",
       "      <td>England</td>\n",
       "    </tr>\n",
       "    <tr>\n",
       "      <th>16</th>\n",
       "      <td>England</td>\n",
       "      <td>Slovenia</td>\n",
       "      <td>0.685106</td>\n",
       "      <td>0.204319</td>\n",
       "      <td>0.107017</td>\n",
       "      <td>1.910978</td>\n",
       "      <td>0.594894</td>\n",
       "      <td>England</td>\n",
       "    </tr>\n",
       "    <tr>\n",
       "      <th>17</th>\n",
       "      <td>Denmark</td>\n",
       "      <td>Serbia</td>\n",
       "      <td>0.469950</td>\n",
       "      <td>0.254150</td>\n",
       "      <td>0.274677</td>\n",
       "      <td>1.537301</td>\n",
       "      <td>1.111945</td>\n",
       "      <td>Denmark</td>\n",
       "    </tr>\n",
       "  </tbody>\n",
       "</table>\n",
       "</div>"
      ],
      "text/plain": [
       "   Home_Team Away_Team  local_prob  draw_prob  away_prob    XGhome    XGaway  \\\n",
       "12  Slovenia   Denmark    0.194014   0.267594   0.537599  0.754194  1.455328   \n",
       "13    Serbia   England    0.154765   0.205936   0.634500  0.877082  2.018616   \n",
       "14  Slovenia    Serbia    0.271654   0.256830   0.470404  1.084522  1.513703   \n",
       "15   Denmark   England    0.225589   0.273130   0.500620  0.843258  1.403778   \n",
       "16   England  Slovenia    0.685106   0.204319   0.107017  1.910978  0.594894   \n",
       "17   Denmark    Serbia    0.469950   0.254150   0.274677  1.537301  1.111945   \n",
       "\n",
       "     Result  \n",
       "12  Denmark  \n",
       "13  England  \n",
       "14   Serbia  \n",
       "15  England  \n",
       "16  England  \n",
       "17  Denmark  "
      ]
     },
     "execution_count": 27,
     "metadata": {},
     "output_type": "execute_result"
    }
   ],
   "source": [
    "group_matches[group_matches.Grupo==\"C\"][[\"Home_Team\",\"Away_Team\", \"local_prob\",\"draw_prob\",\"away_prob\",\"XGhome\",\"XGaway\",\"Result\"]]"
   ]
  },
  {
   "cell_type": "code",
   "execution_count": 28,
   "id": "93870b28",
   "metadata": {
    "execution": {
     "iopub.execute_input": "2024-06-10T11:22:56.063550Z",
     "iopub.status.busy": "2024-06-10T11:22:56.063119Z",
     "iopub.status.idle": "2024-06-10T11:22:56.082040Z",
     "shell.execute_reply": "2024-06-10T11:22:56.080754Z"
    },
    "papermill": {
     "duration": 0.051059,
     "end_time": "2024-06-10T11:22:56.084535",
     "exception": false,
     "start_time": "2024-06-10T11:22:56.033476",
     "status": "completed"
    },
    "tags": []
   },
   "outputs": [
    {
     "data": {
      "text/html": [
       "<div>\n",
       "<style scoped>\n",
       "    .dataframe tbody tr th:only-of-type {\n",
       "        vertical-align: middle;\n",
       "    }\n",
       "\n",
       "    .dataframe tbody tr th {\n",
       "        vertical-align: top;\n",
       "    }\n",
       "\n",
       "    .dataframe thead th {\n",
       "        text-align: right;\n",
       "    }\n",
       "</style>\n",
       "<table border=\"1\" class=\"dataframe\">\n",
       "  <thead>\n",
       "    <tr style=\"text-align: right;\">\n",
       "      <th></th>\n",
       "      <th>Home_Team</th>\n",
       "      <th>Away_Team</th>\n",
       "      <th>local_prob</th>\n",
       "      <th>draw_prob</th>\n",
       "      <th>away_prob</th>\n",
       "      <th>XGhome</th>\n",
       "      <th>XGaway</th>\n",
       "      <th>Result</th>\n",
       "    </tr>\n",
       "  </thead>\n",
       "  <tbody>\n",
       "    <tr>\n",
       "      <th>18</th>\n",
       "      <td>Poland</td>\n",
       "      <td>Netherlands</td>\n",
       "      <td>0.194834</td>\n",
       "      <td>0.220202</td>\n",
       "      <td>0.581330</td>\n",
       "      <td>1.006125</td>\n",
       "      <td>1.910357</td>\n",
       "      <td>Netherlands</td>\n",
       "    </tr>\n",
       "    <tr>\n",
       "      <th>19</th>\n",
       "      <td>Austria</td>\n",
       "      <td>France</td>\n",
       "      <td>0.146457</td>\n",
       "      <td>0.203709</td>\n",
       "      <td>0.644950</td>\n",
       "      <td>0.840269</td>\n",
       "      <td>2.026080</td>\n",
       "      <td>France</td>\n",
       "    </tr>\n",
       "    <tr>\n",
       "      <th>20</th>\n",
       "      <td>Poland</td>\n",
       "      <td>Austria</td>\n",
       "      <td>0.402358</td>\n",
       "      <td>0.261473</td>\n",
       "      <td>0.335274</td>\n",
       "      <td>1.386166</td>\n",
       "      <td>1.241604</td>\n",
       "      <td>Poland</td>\n",
       "    </tr>\n",
       "    <tr>\n",
       "      <th>21</th>\n",
       "      <td>Netherlands</td>\n",
       "      <td>France</td>\n",
       "      <td>0.332330</td>\n",
       "      <td>0.253581</td>\n",
       "      <td>0.412872</td>\n",
       "      <td>1.292855</td>\n",
       "      <td>1.470596</td>\n",
       "      <td>France</td>\n",
       "    </tr>\n",
       "    <tr>\n",
       "      <th>22</th>\n",
       "      <td>Netherlands</td>\n",
       "      <td>Austria</td>\n",
       "      <td>0.618425</td>\n",
       "      <td>0.206487</td>\n",
       "      <td>0.169923</td>\n",
       "      <td>2.044847</td>\n",
       "      <td>0.964643</td>\n",
       "      <td>Netherlands</td>\n",
       "    </tr>\n",
       "    <tr>\n",
       "      <th>23</th>\n",
       "      <td>France</td>\n",
       "      <td>Poland</td>\n",
       "      <td>0.609349</td>\n",
       "      <td>0.218716</td>\n",
       "      <td>0.168522</td>\n",
       "      <td>1.892823</td>\n",
       "      <td>0.876403</td>\n",
       "      <td>France</td>\n",
       "    </tr>\n",
       "  </tbody>\n",
       "</table>\n",
       "</div>"
      ],
      "text/plain": [
       "      Home_Team    Away_Team  local_prob  draw_prob  away_prob    XGhome  \\\n",
       "18       Poland  Netherlands    0.194834   0.220202   0.581330  1.006125   \n",
       "19      Austria       France    0.146457   0.203709   0.644950  0.840269   \n",
       "20       Poland      Austria    0.402358   0.261473   0.335274  1.386166   \n",
       "21  Netherlands       France    0.332330   0.253581   0.412872  1.292855   \n",
       "22  Netherlands      Austria    0.618425   0.206487   0.169923  2.044847   \n",
       "23       France       Poland    0.609349   0.218716   0.168522  1.892823   \n",
       "\n",
       "      XGaway       Result  \n",
       "18  1.910357  Netherlands  \n",
       "19  2.026080       France  \n",
       "20  1.241604       Poland  \n",
       "21  1.470596       France  \n",
       "22  0.964643  Netherlands  \n",
       "23  0.876403       France  "
      ]
     },
     "execution_count": 28,
     "metadata": {},
     "output_type": "execute_result"
    }
   ],
   "source": [
    "group_matches[group_matches.Grupo==\"D\"][[\"Home_Team\",\"Away_Team\", \"local_prob\",\"draw_prob\",\"away_prob\",\"XGhome\",\"XGaway\",\"Result\"]]"
   ]
  },
  {
   "cell_type": "code",
   "execution_count": 29,
   "id": "73f0e7fe",
   "metadata": {
    "execution": {
     "iopub.execute_input": "2024-06-10T11:22:56.145731Z",
     "iopub.status.busy": "2024-06-10T11:22:56.145228Z",
     "iopub.status.idle": "2024-06-10T11:22:56.167619Z",
     "shell.execute_reply": "2024-06-10T11:22:56.166320Z"
    },
    "papermill": {
     "duration": 0.054813,
     "end_time": "2024-06-10T11:22:56.169956",
     "exception": false,
     "start_time": "2024-06-10T11:22:56.115143",
     "status": "completed"
    },
    "tags": []
   },
   "outputs": [
    {
     "data": {
      "text/html": [
       "<div>\n",
       "<style scoped>\n",
       "    .dataframe tbody tr th:only-of-type {\n",
       "        vertical-align: middle;\n",
       "    }\n",
       "\n",
       "    .dataframe tbody tr th {\n",
       "        vertical-align: top;\n",
       "    }\n",
       "\n",
       "    .dataframe thead th {\n",
       "        text-align: right;\n",
       "    }\n",
       "</style>\n",
       "<table border=\"1\" class=\"dataframe\">\n",
       "  <thead>\n",
       "    <tr style=\"text-align: right;\">\n",
       "      <th></th>\n",
       "      <th>Home_Team</th>\n",
       "      <th>Away_Team</th>\n",
       "      <th>local_prob</th>\n",
       "      <th>draw_prob</th>\n",
       "      <th>away_prob</th>\n",
       "      <th>XGhome</th>\n",
       "      <th>XGaway</th>\n",
       "      <th>Result</th>\n",
       "    </tr>\n",
       "  </thead>\n",
       "  <tbody>\n",
       "    <tr>\n",
       "      <th>24</th>\n",
       "      <td>Romania</td>\n",
       "      <td>Ukraine</td>\n",
       "      <td>0.304357</td>\n",
       "      <td>0.292223</td>\n",
       "      <td>0.403117</td>\n",
       "      <td>0.984930</td>\n",
       "      <td>1.180462</td>\n",
       "      <td>Ukraine</td>\n",
       "    </tr>\n",
       "    <tr>\n",
       "      <th>25</th>\n",
       "      <td>Belgium</td>\n",
       "      <td>Slovakia</td>\n",
       "      <td>0.663693</td>\n",
       "      <td>0.202113</td>\n",
       "      <td>0.129646</td>\n",
       "      <td>2.000022</td>\n",
       "      <td>0.744810</td>\n",
       "      <td>Belgium</td>\n",
       "    </tr>\n",
       "    <tr>\n",
       "      <th>26</th>\n",
       "      <td>Slovakia</td>\n",
       "      <td>Ukraine</td>\n",
       "      <td>0.277760</td>\n",
       "      <td>0.281074</td>\n",
       "      <td>0.440696</td>\n",
       "      <td>0.968629</td>\n",
       "      <td>1.298772</td>\n",
       "      <td>Ukraine</td>\n",
       "    </tr>\n",
       "    <tr>\n",
       "      <th>27</th>\n",
       "      <td>Belgium</td>\n",
       "      <td>Romania</td>\n",
       "      <td>0.623605</td>\n",
       "      <td>0.223064</td>\n",
       "      <td>0.150604</td>\n",
       "      <td>1.817832</td>\n",
       "      <td>0.757344</td>\n",
       "      <td>Belgium</td>\n",
       "    </tr>\n",
       "    <tr>\n",
       "      <th>28</th>\n",
       "      <td>Slovakia</td>\n",
       "      <td>Romania</td>\n",
       "      <td>0.323439</td>\n",
       "      <td>0.290972</td>\n",
       "      <td>0.385282</td>\n",
       "      <td>1.036064</td>\n",
       "      <td>1.159086</td>\n",
       "      <td>Romania</td>\n",
       "    </tr>\n",
       "    <tr>\n",
       "      <th>29</th>\n",
       "      <td>Ukraine</td>\n",
       "      <td>Belgium</td>\n",
       "      <td>0.185572</td>\n",
       "      <td>0.238872</td>\n",
       "      <td>0.573654</td>\n",
       "      <td>0.848615</td>\n",
       "      <td>1.699514</td>\n",
       "      <td>Belgium</td>\n",
       "    </tr>\n",
       "  </tbody>\n",
       "</table>\n",
       "</div>"
      ],
      "text/plain": [
       "   Home_Team Away_Team  local_prob  draw_prob  away_prob    XGhome    XGaway  \\\n",
       "24   Romania   Ukraine    0.304357   0.292223   0.403117  0.984930  1.180462   \n",
       "25   Belgium  Slovakia    0.663693   0.202113   0.129646  2.000022  0.744810   \n",
       "26  Slovakia   Ukraine    0.277760   0.281074   0.440696  0.968629  1.298772   \n",
       "27   Belgium   Romania    0.623605   0.223064   0.150604  1.817832  0.757344   \n",
       "28  Slovakia   Romania    0.323439   0.290972   0.385282  1.036064  1.159086   \n",
       "29   Ukraine   Belgium    0.185572   0.238872   0.573654  0.848615  1.699514   \n",
       "\n",
       "     Result  \n",
       "24  Ukraine  \n",
       "25  Belgium  \n",
       "26  Ukraine  \n",
       "27  Belgium  \n",
       "28  Romania  \n",
       "29  Belgium  "
      ]
     },
     "execution_count": 29,
     "metadata": {},
     "output_type": "execute_result"
    }
   ],
   "source": [
    "group_matches[group_matches.Grupo==\"E\"][[\"Home_Team\",\"Away_Team\", \"local_prob\",\"draw_prob\",\"away_prob\",\"XGhome\",\"XGaway\",\"Result\"]]"
   ]
  },
  {
   "cell_type": "code",
   "execution_count": 30,
   "id": "6e40b6eb",
   "metadata": {
    "execution": {
     "iopub.execute_input": "2024-06-10T11:22:56.228183Z",
     "iopub.status.busy": "2024-06-10T11:22:56.227647Z",
     "iopub.status.idle": "2024-06-10T11:22:56.251202Z",
     "shell.execute_reply": "2024-06-10T11:22:56.249977Z"
    },
    "papermill": {
     "duration": 0.055653,
     "end_time": "2024-06-10T11:22:56.253633",
     "exception": false,
     "start_time": "2024-06-10T11:22:56.197980",
     "status": "completed"
    },
    "tags": []
   },
   "outputs": [
    {
     "data": {
      "text/html": [
       "<div>\n",
       "<style scoped>\n",
       "    .dataframe tbody tr th:only-of-type {\n",
       "        vertical-align: middle;\n",
       "    }\n",
       "\n",
       "    .dataframe tbody tr th {\n",
       "        vertical-align: top;\n",
       "    }\n",
       "\n",
       "    .dataframe thead th {\n",
       "        text-align: right;\n",
       "    }\n",
       "</style>\n",
       "<table border=\"1\" class=\"dataframe\">\n",
       "  <thead>\n",
       "    <tr style=\"text-align: right;\">\n",
       "      <th></th>\n",
       "      <th>Home_Team</th>\n",
       "      <th>Away_Team</th>\n",
       "      <th>local_prob</th>\n",
       "      <th>draw_prob</th>\n",
       "      <th>away_prob</th>\n",
       "      <th>XGhome</th>\n",
       "      <th>XGaway</th>\n",
       "      <th>Result</th>\n",
       "    </tr>\n",
       "  </thead>\n",
       "  <tbody>\n",
       "    <tr>\n",
       "      <th>30</th>\n",
       "      <td>Turkey</td>\n",
       "      <td>Georgia</td>\n",
       "      <td>0.498882</td>\n",
       "      <td>0.249502</td>\n",
       "      <td>0.250165</td>\n",
       "      <td>1.599911</td>\n",
       "      <td>1.054860</td>\n",
       "      <td>Turkey</td>\n",
       "    </tr>\n",
       "    <tr>\n",
       "      <th>31</th>\n",
       "      <td>Portugal</td>\n",
       "      <td>Czech Republic</td>\n",
       "      <td>0.580246</td>\n",
       "      <td>0.232441</td>\n",
       "      <td>0.184979</td>\n",
       "      <td>1.763472</td>\n",
       "      <td>0.880434</td>\n",
       "      <td>Portugal</td>\n",
       "    </tr>\n",
       "    <tr>\n",
       "      <th>32</th>\n",
       "      <td>Georgia</td>\n",
       "      <td>Czech Republic</td>\n",
       "      <td>0.206041</td>\n",
       "      <td>0.250528</td>\n",
       "      <td>0.542070</td>\n",
       "      <td>0.876758</td>\n",
       "      <td>1.597465</td>\n",
       "      <td>Czech Republic</td>\n",
       "    </tr>\n",
       "    <tr>\n",
       "      <th>33</th>\n",
       "      <td>Turkey</td>\n",
       "      <td>Portugal</td>\n",
       "      <td>0.145110</td>\n",
       "      <td>0.196014</td>\n",
       "      <td>0.652653</td>\n",
       "      <td>0.881782</td>\n",
       "      <td>2.121698</td>\n",
       "      <td>Portugal</td>\n",
       "    </tr>\n",
       "    <tr>\n",
       "      <th>34</th>\n",
       "      <td>Georgia</td>\n",
       "      <td>Portugal</td>\n",
       "      <td>0.084244</td>\n",
       "      <td>0.160318</td>\n",
       "      <td>0.745128</td>\n",
       "      <td>0.642337</td>\n",
       "      <td>2.344155</td>\n",
       "      <td>Portugal</td>\n",
       "    </tr>\n",
       "    <tr>\n",
       "      <th>35</th>\n",
       "      <td>Czech Republic</td>\n",
       "      <td>Turkey</td>\n",
       "      <td>0.426017</td>\n",
       "      <td>0.258781</td>\n",
       "      <td>0.314197</td>\n",
       "      <td>1.445867</td>\n",
       "      <td>1.203589</td>\n",
       "      <td>Czech Republic</td>\n",
       "    </tr>\n",
       "  </tbody>\n",
       "</table>\n",
       "</div>"
      ],
      "text/plain": [
       "         Home_Team       Away_Team  local_prob  draw_prob  away_prob  \\\n",
       "30          Turkey         Georgia    0.498882   0.249502   0.250165   \n",
       "31        Portugal  Czech Republic    0.580246   0.232441   0.184979   \n",
       "32         Georgia  Czech Republic    0.206041   0.250528   0.542070   \n",
       "33          Turkey        Portugal    0.145110   0.196014   0.652653   \n",
       "34         Georgia        Portugal    0.084244   0.160318   0.745128   \n",
       "35  Czech Republic          Turkey    0.426017   0.258781   0.314197   \n",
       "\n",
       "      XGhome    XGaway          Result  \n",
       "30  1.599911  1.054860          Turkey  \n",
       "31  1.763472  0.880434        Portugal  \n",
       "32  0.876758  1.597465  Czech Republic  \n",
       "33  0.881782  2.121698        Portugal  \n",
       "34  0.642337  2.344155        Portugal  \n",
       "35  1.445867  1.203589  Czech Republic  "
      ]
     },
     "execution_count": 30,
     "metadata": {},
     "output_type": "execute_result"
    }
   ],
   "source": [
    "group_matches[group_matches.Grupo==\"F\"][[\"Home_Team\",\"Away_Team\", \"local_prob\",\"draw_prob\",\"away_prob\",\"XGhome\",\"XGaway\",\"Result\"]]"
   ]
  },
  {
   "cell_type": "markdown",
   "id": "cd4b0c69",
   "metadata": {
    "papermill": {
     "duration": 0.027612,
     "end_time": "2024-06-10T11:22:56.309347",
     "exception": false,
     "start_time": "2024-06-10T11:22:56.281735",
     "status": "completed"
    },
    "tags": []
   },
   "source": [
    "By running numerous simulations, we can estimate the probabilities of different outcomes for each match.\n",
    "We simulate each match multiple times to predict the likely outcomes and the points each team might accumulate. The table presented below illustrates the predicted probabilities for each team to conclude the group stage in a particular position."
   ]
  },
  {
   "cell_type": "code",
   "execution_count": 31,
   "id": "c1a5b789",
   "metadata": {
    "execution": {
     "iopub.execute_input": "2024-06-10T11:22:56.377596Z",
     "iopub.status.busy": "2024-06-10T11:22:56.377098Z",
     "iopub.status.idle": "2024-06-10T11:22:56.386146Z",
     "shell.execute_reply": "2024-06-10T11:22:56.384970Z"
    },
    "papermill": {
     "duration": 0.042184,
     "end_time": "2024-06-10T11:22:56.388502",
     "exception": false,
     "start_time": "2024-06-10T11:22:56.346318",
     "status": "completed"
    },
    "tags": []
   },
   "outputs": [],
   "source": [
    "# Define a function to calculate points based on match results\n",
    "def calculate_points(result, home_team, team):\n",
    "    if result == \"Draw\":\n",
    "        return 1\n",
    "    elif result == home_team:\n",
    "        return 3\n",
    "    elif result == team:\n",
    "        return 0"
   ]
  },
  {
   "cell_type": "code",
   "execution_count": 32,
   "id": "610c26a0",
   "metadata": {
    "execution": {
     "iopub.execute_input": "2024-06-10T11:22:56.449499Z",
     "iopub.status.busy": "2024-06-10T11:22:56.448995Z",
     "iopub.status.idle": "2024-06-10T11:37:29.381045Z",
     "shell.execute_reply": "2024-06-10T11:37:29.379934Z"
    },
    "papermill": {
     "duration": 872.966224,
     "end_time": "2024-06-10T11:37:29.383981",
     "exception": false,
     "start_time": "2024-06-10T11:22:56.417757",
     "status": "completed"
    },
    "tags": []
   },
   "outputs": [],
   "source": [
    "# Simulate match results and calculate standings\n",
    "num_simulations = 10000  # Number of simulations\n",
    "standings_list = []  # List to store standings for each simulation\n",
    "\n",
    "for _ in range(num_simulations):\n",
    "    # Apply the function to create the \"Results\" column\n",
    "    group_matches[\"Result\"] = group_matches.apply(determine_result_random, axis=1)\n",
    "    # Apply the function to create the \"Points\" column for both Home and Away teams\n",
    "    group_matches[\"Points_Home\"] = group_matches.apply(lambda row: calculate_points(row[\"Result\"], row[\"Home_Team\"], row[\"Away_Team\"]), axis=1)\n",
    "    group_matches[\"Points_Away\"] = group_matches.apply(lambda row: calculate_points(row[\"Result\"], row[\"Away_Team\"], row[\"Home_Team\"]), axis=1)\n",
    "    # Create a dataframe to store points for each teams\n",
    "    standings = pd.DataFrame(columns=[\"Grupo\",\"Team\", \"Points\"])\n",
    "    # Concatenate Home and Away points by group\n",
    "    for group_name, group_data in group_matches.groupby(\"Grupo\"):\n",
    "        group_points_df = pd.DataFrame(columns=[\"Team\", \"Points\"])\n",
    "        for team in set(group_data[\"Home_Team\"]).union(set(group_data[\"Away_Team\"])):\n",
    "            home_points = group_data.loc[group_data[\"Home_Team\"] == team, \"Points_Home\"].sum()\n",
    "            away_points = group_data.loc[group_data[\"Away_Team\"] == team, \"Points_Away\"].sum()\n",
    "            total_points = home_points + away_points\n",
    "            group_points_df = group_points_df._append({\"Team\": team, \"Points\": total_points}, ignore_index=True)\n",
    "        group_points_df = group_points_df.sort_values(by=[\"Points\"], ascending=False).reset_index(drop=True)\n",
    "        group_points_df[\"Grupo\"] = group_name\n",
    "        group_points_df[\"Rank\"] = range(1, len(group_points_df) + 1)\n",
    "        group_points_df[\"Qualified_1\"]=np.where(group_points_df[\"Rank\"]==1,1,0)\n",
    "        group_points_df[\"Qualified_2\"]=np.where(group_points_df[\"Rank\"]==2,1,0)\n",
    "        group_points_df[\"Qualified_3\"]=np.where(group_points_df[\"Rank\"]==3,1,0)\n",
    "        group_points_df[\"Qualified_4\"]=np.where(group_points_df[\"Rank\"]==4,1,0)\n",
    "        standings = pd.concat([standings, group_points_df], ignore_index=True)\n",
    "        standings_list.append(standings)"
   ]
  },
  {
   "cell_type": "code",
   "execution_count": 33,
   "id": "15187831",
   "metadata": {
    "execution": {
     "iopub.execute_input": "2024-06-10T11:37:29.442204Z",
     "iopub.status.busy": "2024-06-10T11:37:29.441785Z",
     "iopub.status.idle": "2024-06-10T11:37:39.513274Z",
     "shell.execute_reply": "2024-06-10T11:37:39.512011Z"
    },
    "papermill": {
     "duration": 10.103616,
     "end_time": "2024-06-10T11:37:39.515719",
     "exception": false,
     "start_time": "2024-06-10T11:37:29.412103",
     "status": "completed"
    },
    "tags": []
   },
   "outputs": [
    {
     "data": {
      "text/html": [
       "<style type=\"text/css\">\n",
       "#T_1c606_row0_col2 {\n",
       "  background-color: #005020;\n",
       "  color: #f1f1f1;\n",
       "}\n",
       "#T_1c606_row0_col3 {\n",
       "  background-color: #78c679;\n",
       "  color: #000000;\n",
       "}\n",
       "#T_1c606_row0_col4 {\n",
       "  background-color: #eff9eb;\n",
       "  color: #000000;\n",
       "}\n",
       "#T_1c606_row0_col5, #T_1c606_row7_col2, #T_1c606_row7_col3, #T_1c606_row16_col4, #T_1c606_row16_col5 {\n",
       "  background-color: #f7fcf5;\n",
       "  color: #000000;\n",
       "}\n",
       "#T_1c606_row1_col2, #T_1c606_row9_col2, #T_1c606_row9_col5 {\n",
       "  background-color: #c7e9c0;\n",
       "  color: #000000;\n",
       "}\n",
       "#T_1c606_row1_col3 {\n",
       "  background-color: #005b25;\n",
       "  color: #f1f1f1;\n",
       "}\n",
       "#T_1c606_row1_col4 {\n",
       "  background-color: #0e7936;\n",
       "  color: #f1f1f1;\n",
       "}\n",
       "#T_1c606_row1_col5, #T_1c606_row10_col2 {\n",
       "  background-color: #cdecc7;\n",
       "  color: #000000;\n",
       "}\n",
       "#T_1c606_row2_col2 {\n",
       "  background-color: #e8f6e4;\n",
       "  color: #000000;\n",
       "}\n",
       "#T_1c606_row2_col3 {\n",
       "  background-color: #3ca559;\n",
       "  color: #f1f1f1;\n",
       "}\n",
       "#T_1c606_row2_col4 {\n",
       "  background-color: #004e1f;\n",
       "  color: #f1f1f1;\n",
       "}\n",
       "#T_1c606_row2_col5, #T_1c606_row18_col5 {\n",
       "  background-color: #8bcf89;\n",
       "  color: #000000;\n",
       "}\n",
       "#T_1c606_row3_col2 {\n",
       "  background-color: #ecf8e8;\n",
       "  color: #000000;\n",
       "}\n",
       "#T_1c606_row3_col3, #T_1c606_row14_col5 {\n",
       "  background-color: #99d595;\n",
       "  color: #000000;\n",
       "}\n",
       "#T_1c606_row3_col4 {\n",
       "  background-color: #0c7735;\n",
       "  color: #f1f1f1;\n",
       "}\n",
       "#T_1c606_row3_col5 {\n",
       "  background-color: #46ae60;\n",
       "  color: #f1f1f1;\n",
       "}\n",
       "#T_1c606_row4_col2 {\n",
       "  background-color: #2a924a;\n",
       "  color: #f1f1f1;\n",
       "}\n",
       "#T_1c606_row4_col3 {\n",
       "  background-color: #157f3b;\n",
       "  color: #f1f1f1;\n",
       "}\n",
       "#T_1c606_row4_col4 {\n",
       "  background-color: #bbe4b4;\n",
       "  color: #000000;\n",
       "}\n",
       "#T_1c606_row4_col5 {\n",
       "  background-color: #f4fbf2;\n",
       "  color: #000000;\n",
       "}\n",
       "#T_1c606_row5_col2 {\n",
       "  background-color: #9ed798;\n",
       "  color: #000000;\n",
       "}\n",
       "#T_1c606_row5_col3 {\n",
       "  background-color: #127c39;\n",
       "  color: #f1f1f1;\n",
       "}\n",
       "#T_1c606_row5_col4 {\n",
       "  background-color: #005221;\n",
       "  color: #f1f1f1;\n",
       "}\n",
       "#T_1c606_row5_col5, #T_1c606_row19_col2, #T_1c606_row20_col4 {\n",
       "  background-color: #e9f7e5;\n",
       "  color: #000000;\n",
       "}\n",
       "#T_1c606_row6_col2 {\n",
       "  background-color: #bae3b3;\n",
       "  color: #000000;\n",
       "}\n",
       "#T_1c606_row6_col3 {\n",
       "  background-color: #067230;\n",
       "  color: #f1f1f1;\n",
       "}\n",
       "#T_1c606_row6_col4 {\n",
       "  background-color: #00491d;\n",
       "  color: #f1f1f1;\n",
       "}\n",
       "#T_1c606_row6_col5 {\n",
       "  background-color: #def2d9;\n",
       "  color: #000000;\n",
       "}\n",
       "#T_1c606_row7_col4, #T_1c606_row19_col5 {\n",
       "  background-color: #87cd86;\n",
       "  color: #000000;\n",
       "}\n",
       "#T_1c606_row7_col5, #T_1c606_row16_col2, #T_1c606_row21_col3, #T_1c606_row22_col4 {\n",
       "  background-color: #00441b;\n",
       "  color: #f1f1f1;\n",
       "}\n",
       "#T_1c606_row8_col2 {\n",
       "  background-color: #0b7734;\n",
       "  color: #f1f1f1;\n",
       "}\n",
       "#T_1c606_row8_col3 {\n",
       "  background-color: #4bb062;\n",
       "  color: #f1f1f1;\n",
       "}\n",
       "#T_1c606_row8_col4 {\n",
       "  background-color: #d9f0d3;\n",
       "  color: #000000;\n",
       "}\n",
       "#T_1c606_row8_col5 {\n",
       "  background-color: #f2faef;\n",
       "  color: #000000;\n",
       "}\n",
       "#T_1c606_row9_col3 {\n",
       "  background-color: #03702e;\n",
       "  color: #f1f1f1;\n",
       "}\n",
       "#T_1c606_row9_col4 {\n",
       "  background-color: #107a37;\n",
       "  color: #f1f1f1;\n",
       "}\n",
       "#T_1c606_row10_col3, #T_1c606_row21_col4 {\n",
       "  background-color: #2f984f;\n",
       "  color: #f1f1f1;\n",
       "}\n",
       "#T_1c606_row10_col4 {\n",
       "  background-color: #005723;\n",
       "  color: #f1f1f1;\n",
       "}\n",
       "#T_1c606_row10_col5 {\n",
       "  background-color: #b7e2b1;\n",
       "  color: #000000;\n",
       "}\n",
       "#T_1c606_row11_col2 {\n",
       "  background-color: #ebf7e7;\n",
       "  color: #000000;\n",
       "}\n",
       "#T_1c606_row11_col3 {\n",
       "  background-color: #b8e3b2;\n",
       "  color: #000000;\n",
       "}\n",
       "#T_1c606_row11_col4 {\n",
       "  background-color: #258d47;\n",
       "  color: #f1f1f1;\n",
       "}\n",
       "#T_1c606_row11_col5 {\n",
       "  background-color: #349d53;\n",
       "  color: #f1f1f1;\n",
       "}\n",
       "#T_1c606_row12_col2 {\n",
       "  background-color: #369f54;\n",
       "  color: #f1f1f1;\n",
       "}\n",
       "#T_1c606_row12_col3 {\n",
       "  background-color: #289049;\n",
       "  color: #f1f1f1;\n",
       "}\n",
       "#T_1c606_row12_col4, #T_1c606_row15_col3 {\n",
       "  background-color: #b4e1ad;\n",
       "  color: #000000;\n",
       "}\n",
       "#T_1c606_row12_col5 {\n",
       "  background-color: #eaf7e6;\n",
       "  color: #000000;\n",
       "}\n",
       "#T_1c606_row13_col2 {\n",
       "  background-color: #90d18d;\n",
       "  color: #000000;\n",
       "}\n",
       "#T_1c606_row13_col3 {\n",
       "  background-color: #006428;\n",
       "  color: #f1f1f1;\n",
       "}\n",
       "#T_1c606_row13_col4 {\n",
       "  background-color: #45ad5f;\n",
       "  color: #f1f1f1;\n",
       "}\n",
       "#T_1c606_row13_col5 {\n",
       "  background-color: #e1f3dc;\n",
       "  color: #000000;\n",
       "}\n",
       "#T_1c606_row14_col2 {\n",
       "  background-color: #d6efd0;\n",
       "  color: #000000;\n",
       "}\n",
       "#T_1c606_row14_col3 {\n",
       "  background-color: #6dc072;\n",
       "  color: #000000;\n",
       "}\n",
       "#T_1c606_row14_col4 {\n",
       "  background-color: #00451c;\n",
       "  color: #f1f1f1;\n",
       "}\n",
       "#T_1c606_row15_col2 {\n",
       "  background-color: #e6f5e1;\n",
       "  color: #000000;\n",
       "}\n",
       "#T_1c606_row15_col4 {\n",
       "  background-color: #228a44;\n",
       "  color: #f1f1f1;\n",
       "}\n",
       "#T_1c606_row15_col5 {\n",
       "  background-color: #3ea75a;\n",
       "  color: #f1f1f1;\n",
       "}\n",
       "#T_1c606_row16_col3 {\n",
       "  background-color: #80ca80;\n",
       "  color: #000000;\n",
       "}\n",
       "#T_1c606_row17_col2 {\n",
       "  background-color: #dbf1d5;\n",
       "  color: #000000;\n",
       "}\n",
       "#T_1c606_row17_col3 {\n",
       "  background-color: #319a50;\n",
       "  color: #f1f1f1;\n",
       "}\n",
       "#T_1c606_row17_col4 {\n",
       "  background-color: #006d2c;\n",
       "  color: #f1f1f1;\n",
       "}\n",
       "#T_1c606_row17_col5 {\n",
       "  background-color: #9cd797;\n",
       "  color: #000000;\n",
       "}\n",
       "#T_1c606_row18_col2 {\n",
       "  background-color: #e3f4de;\n",
       "  color: #000000;\n",
       "}\n",
       "#T_1c606_row18_col3 {\n",
       "  background-color: #40aa5d;\n",
       "  color: #f1f1f1;\n",
       "}\n",
       "#T_1c606_row18_col4 {\n",
       "  background-color: #006227;\n",
       "  color: #f1f1f1;\n",
       "}\n",
       "#T_1c606_row19_col3 {\n",
       "  background-color: #339c52;\n",
       "  color: #f1f1f1;\n",
       "}\n",
       "#T_1c606_row19_col4 {\n",
       "  background-color: #006529;\n",
       "  color: #f1f1f1;\n",
       "}\n",
       "#T_1c606_row20_col2 {\n",
       "  background-color: #00692a;\n",
       "  color: #f1f1f1;\n",
       "}\n",
       "#T_1c606_row20_col3 {\n",
       "  background-color: #3fa95c;\n",
       "  color: #f1f1f1;\n",
       "}\n",
       "#T_1c606_row20_col5 {\n",
       "  background-color: #f6fcf4;\n",
       "  color: #000000;\n",
       "}\n",
       "#T_1c606_row21_col2 {\n",
       "  background-color: #aadda4;\n",
       "  color: #000000;\n",
       "}\n",
       "#T_1c606_row21_col5 {\n",
       "  background-color: #e0f3db;\n",
       "  color: #000000;\n",
       "}\n",
       "#T_1c606_row22_col2 {\n",
       "  background-color: #e7f6e2;\n",
       "  color: #000000;\n",
       "}\n",
       "#T_1c606_row22_col3 {\n",
       "  background-color: #4db163;\n",
       "  color: #f1f1f1;\n",
       "}\n",
       "#T_1c606_row22_col5 {\n",
       "  background-color: #8dd08a;\n",
       "  color: #000000;\n",
       "}\n",
       "#T_1c606_row23_col2 {\n",
       "  background-color: #eff9ec;\n",
       "  color: #000000;\n",
       "}\n",
       "#T_1c606_row23_col3 {\n",
       "  background-color: #cbebc5;\n",
       "  color: #000000;\n",
       "}\n",
       "#T_1c606_row23_col4 {\n",
       "  background-color: #006b2b;\n",
       "  color: #f1f1f1;\n",
       "}\n",
       "#T_1c606_row23_col5 {\n",
       "  background-color: #329b51;\n",
       "  color: #f1f1f1;\n",
       "}\n",
       "</style>\n",
       "<table id=\"T_1c606\">\n",
       "  <thead>\n",
       "    <tr>\n",
       "      <th class=\"blank level0\" >&nbsp;</th>\n",
       "      <th id=\"T_1c606_level0_col0\" class=\"col_heading level0 col0\" >Team</th>\n",
       "      <th id=\"T_1c606_level0_col1\" class=\"col_heading level0 col1\" >Grupo</th>\n",
       "      <th id=\"T_1c606_level0_col2\" class=\"col_heading level0 col2\" >Qualified_1</th>\n",
       "      <th id=\"T_1c606_level0_col3\" class=\"col_heading level0 col3\" >Qualified_2</th>\n",
       "      <th id=\"T_1c606_level0_col4\" class=\"col_heading level0 col4\" >Qualified_3</th>\n",
       "      <th id=\"T_1c606_level0_col5\" class=\"col_heading level0 col5\" >Qualified_4</th>\n",
       "    </tr>\n",
       "  </thead>\n",
       "  <tbody>\n",
       "    <tr>\n",
       "      <th id=\"T_1c606_level0_row0\" class=\"row_heading level0 row0\" >9</th>\n",
       "      <td id=\"T_1c606_row0_col0\" class=\"data row0 col0\" >Germany</td>\n",
       "      <td id=\"T_1c606_row0_col1\" class=\"data row0 col1\" >A</td>\n",
       "      <td id=\"T_1c606_row0_col2\" class=\"data row0 col2\" >0.654400</td>\n",
       "      <td id=\"T_1c606_row0_col3\" class=\"data row0 col3\" >0.213600</td>\n",
       "      <td id=\"T_1c606_row0_col4\" class=\"data row0 col4\" >0.097100</td>\n",
       "      <td id=\"T_1c606_row0_col5\" class=\"data row0 col5\" >0.034900</td>\n",
       "    </tr>\n",
       "    <tr>\n",
       "      <th id=\"T_1c606_level0_row1\" class=\"row_heading level0 row1\" >21</th>\n",
       "      <td id=\"T_1c606_row1_col0\" class=\"data row1 col0\" >Switzerland</td>\n",
       "      <td id=\"T_1c606_row1_col1\" class=\"data row1 col1\" >A</td>\n",
       "      <td id=\"T_1c606_row1_col2\" class=\"data row1 col2\" >0.186000</td>\n",
       "      <td id=\"T_1c606_row1_col3\" class=\"data row1 col3\" >0.340300</td>\n",
       "      <td id=\"T_1c606_row1_col4\" class=\"data row1 col4\" >0.288300</td>\n",
       "      <td id=\"T_1c606_row1_col5\" class=\"data row1 col5\" >0.185400</td>\n",
       "    </tr>\n",
       "    <tr>\n",
       "      <th id=\"T_1c606_level0_row2\" class=\"row_heading level0 row2\" >10</th>\n",
       "      <td id=\"T_1c606_row2_col0\" class=\"data row2 col0\" >Hungary</td>\n",
       "      <td id=\"T_1c606_row2_col1\" class=\"data row2 col1\" >A</td>\n",
       "      <td id=\"T_1c606_row2_col2\" class=\"data row2 col2\" >0.086800</td>\n",
       "      <td id=\"T_1c606_row2_col3\" class=\"data row2 col3\" >0.259400</td>\n",
       "      <td id=\"T_1c606_row2_col4\" class=\"data row2 col4\" >0.324600</td>\n",
       "      <td id=\"T_1c606_row2_col5\" class=\"data row2 col5\" >0.329200</td>\n",
       "    </tr>\n",
       "    <tr>\n",
       "      <th id=\"T_1c606_level0_row3\" class=\"row_heading level0 row3\" >16</th>\n",
       "      <td id=\"T_1c606_row3_col0\" class=\"data row3 col0\" >Scotland</td>\n",
       "      <td id=\"T_1c606_row3_col1\" class=\"data row3 col1\" >A</td>\n",
       "      <td id=\"T_1c606_row3_col2\" class=\"data row3 col2\" >0.072800</td>\n",
       "      <td id=\"T_1c606_row3_col3\" class=\"data row3 col3\" >0.186700</td>\n",
       "      <td id=\"T_1c606_row3_col4\" class=\"data row3 col4\" >0.290000</td>\n",
       "      <td id=\"T_1c606_row3_col5\" class=\"data row3 col5\" >0.450500</td>\n",
       "    </tr>\n",
       "    <tr>\n",
       "      <th id=\"T_1c606_level0_row4\" class=\"row_heading level0 row4\" >20</th>\n",
       "      <td id=\"T_1c606_row4_col0\" class=\"data row4 col0\" >Spain</td>\n",
       "      <td id=\"T_1c606_row4_col1\" class=\"data row4 col1\" >B</td>\n",
       "      <td id=\"T_1c606_row4_col2\" class=\"data row4 col2\" >0.494200</td>\n",
       "      <td id=\"T_1c606_row4_col3\" class=\"data row4 col3\" >0.302800</td>\n",
       "      <td id=\"T_1c606_row4_col4\" class=\"data row4 col4\" >0.155000</td>\n",
       "      <td id=\"T_1c606_row4_col5\" class=\"data row4 col5\" >0.048000</td>\n",
       "    </tr>\n",
       "    <tr>\n",
       "      <th id=\"T_1c606_level0_row5\" class=\"row_heading level0 row5\" >3</th>\n",
       "      <td id=\"T_1c606_row5_col0\" class=\"data row5 col0\" >Croatia</td>\n",
       "      <td id=\"T_1c606_row5_col1\" class=\"data row5 col1\" >B</td>\n",
       "      <td id=\"T_1c606_row5_col2\" class=\"data row5 col2\" >0.272700</td>\n",
       "      <td id=\"T_1c606_row5_col3\" class=\"data row5 col3\" >0.306500</td>\n",
       "      <td id=\"T_1c606_row5_col4\" class=\"data row5 col4\" >0.322000</td>\n",
       "      <td id=\"T_1c606_row5_col5\" class=\"data row5 col5\" >0.098800</td>\n",
       "    </tr>\n",
       "    <tr>\n",
       "      <th id=\"T_1c606_level0_row6\" class=\"row_heading level0 row6\" >11</th>\n",
       "      <td id=\"T_1c606_row6_col0\" class=\"data row6 col0\" >Italy</td>\n",
       "      <td id=\"T_1c606_row6_col1\" class=\"data row6 col1\" >B</td>\n",
       "      <td id=\"T_1c606_row6_col2\" class=\"data row6 col2\" >0.214200</td>\n",
       "      <td id=\"T_1c606_row6_col3\" class=\"data row6 col3\" >0.319100</td>\n",
       "      <td id=\"T_1c606_row6_col4\" class=\"data row6 col4\" >0.328500</td>\n",
       "      <td id=\"T_1c606_row6_col5\" class=\"data row6 col5\" >0.138200</td>\n",
       "    </tr>\n",
       "    <tr>\n",
       "      <th id=\"T_1c606_level0_row7\" class=\"row_heading level0 row7\" >0</th>\n",
       "      <td id=\"T_1c606_row7_col0\" class=\"data row7 col0\" >Albania</td>\n",
       "      <td id=\"T_1c606_row7_col1\" class=\"data row7 col1\" >B</td>\n",
       "      <td id=\"T_1c606_row7_col2\" class=\"data row7 col2\" >0.018900</td>\n",
       "      <td id=\"T_1c606_row7_col3\" class=\"data row7 col3\" >0.071600</td>\n",
       "      <td id=\"T_1c606_row7_col4\" class=\"data row7 col4\" >0.194500</td>\n",
       "      <td id=\"T_1c606_row7_col5\" class=\"data row7 col5\" >0.715000</td>\n",
       "    </tr>\n",
       "    <tr>\n",
       "      <th id=\"T_1c606_level0_row8\" class=\"row_heading level0 row8\" >6</th>\n",
       "      <td id=\"T_1c606_row8_col0\" class=\"data row8 col0\" >England</td>\n",
       "      <td id=\"T_1c606_row8_col1\" class=\"data row8 col1\" >C</td>\n",
       "      <td id=\"T_1c606_row8_col2\" class=\"data row8 col2\" >0.569800</td>\n",
       "      <td id=\"T_1c606_row8_col3\" class=\"data row8 col3\" >0.245800</td>\n",
       "      <td id=\"T_1c606_row8_col4\" class=\"data row8 col4\" >0.126000</td>\n",
       "      <td id=\"T_1c606_row8_col5\" class=\"data row8 col5\" >0.058400</td>\n",
       "    </tr>\n",
       "    <tr>\n",
       "      <th id=\"T_1c606_level0_row9\" class=\"row_heading level0 row9\" >5</th>\n",
       "      <td id=\"T_1c606_row9_col0\" class=\"data row9 col0\" >Denmark</td>\n",
       "      <td id=\"T_1c606_row9_col1\" class=\"data row9 col1\" >C</td>\n",
       "      <td id=\"T_1c606_row9_col2\" class=\"data row9 col2\" >0.184700</td>\n",
       "      <td id=\"T_1c606_row9_col3\" class=\"data row9 col3\" >0.321500</td>\n",
       "      <td id=\"T_1c606_row9_col4\" class=\"data row9 col4\" >0.287900</td>\n",
       "      <td id=\"T_1c606_row9_col5\" class=\"data row9 col5\" >0.205900</td>\n",
       "    </tr>\n",
       "    <tr>\n",
       "      <th id=\"T_1c606_level0_row10\" class=\"row_heading level0 row10\" >17</th>\n",
       "      <td id=\"T_1c606_row10_col0\" class=\"data row10 col0\" >Serbia</td>\n",
       "      <td id=\"T_1c606_row10_col1\" class=\"data row10 col1\" >C</td>\n",
       "      <td id=\"T_1c606_row10_col2\" class=\"data row10 col2\" >0.168200</td>\n",
       "      <td id=\"T_1c606_row10_col3\" class=\"data row10 col3\" >0.274300</td>\n",
       "      <td id=\"T_1c606_row10_col4\" class=\"data row10 col4\" >0.318100</td>\n",
       "      <td id=\"T_1c606_row10_col5\" class=\"data row10 col5\" >0.239400</td>\n",
       "    </tr>\n",
       "    <tr>\n",
       "      <th id=\"T_1c606_level0_row11\" class=\"row_heading level0 row11\" >19</th>\n",
       "      <td id=\"T_1c606_row11_col0\" class=\"data row11 col0\" >Slovenia</td>\n",
       "      <td id=\"T_1c606_row11_col1\" class=\"data row11 col1\" >C</td>\n",
       "      <td id=\"T_1c606_row11_col2\" class=\"data row11 col2\" >0.077300</td>\n",
       "      <td id=\"T_1c606_row11_col3\" class=\"data row11 col3\" >0.158400</td>\n",
       "      <td id=\"T_1c606_row11_col4\" class=\"data row11 col4\" >0.268000</td>\n",
       "      <td id=\"T_1c606_row11_col5\" class=\"data row11 col5\" >0.496300</td>\n",
       "    </tr>\n",
       "    <tr>\n",
       "      <th id=\"T_1c606_level0_row12\" class=\"row_heading level0 row12\" >7</th>\n",
       "      <td id=\"T_1c606_row12_col0\" class=\"data row12 col0\" >France</td>\n",
       "      <td id=\"T_1c606_row12_col1\" class=\"data row12 col1\" >D</td>\n",
       "      <td id=\"T_1c606_row12_col2\" class=\"data row12 col2\" >0.461000</td>\n",
       "      <td id=\"T_1c606_row12_col3\" class=\"data row12 col3\" >0.283200</td>\n",
       "      <td id=\"T_1c606_row12_col4\" class=\"data row12 col4\" >0.160700</td>\n",
       "      <td id=\"T_1c606_row12_col5\" class=\"data row12 col5\" >0.095100</td>\n",
       "    </tr>\n",
       "    <tr>\n",
       "      <th id=\"T_1c606_level0_row13\" class=\"row_heading level0 row13\" >12</th>\n",
       "      <td id=\"T_1c606_row13_col0\" class=\"data row13 col0\" >Netherlands</td>\n",
       "      <td id=\"T_1c606_row13_col1\" class=\"data row13 col1\" >D</td>\n",
       "      <td id=\"T_1c606_row13_col2\" class=\"data row13 col2\" >0.299300</td>\n",
       "      <td id=\"T_1c606_row13_col3\" class=\"data row13 col3\" >0.333100</td>\n",
       "      <td id=\"T_1c606_row13_col4\" class=\"data row13 col4\" >0.236700</td>\n",
       "      <td id=\"T_1c606_row13_col5\" class=\"data row13 col5\" >0.130900</td>\n",
       "    </tr>\n",
       "    <tr>\n",
       "      <th id=\"T_1c606_level0_row14\" class=\"row_heading level0 row14\" >13</th>\n",
       "      <td id=\"T_1c606_row14_col0\" class=\"data row14 col0\" >Poland</td>\n",
       "      <td id=\"T_1c606_row14_col1\" class=\"data row14 col1\" >D</td>\n",
       "      <td id=\"T_1c606_row14_col2\" class=\"data row14 col2\" >0.143100</td>\n",
       "      <td id=\"T_1c606_row14_col3\" class=\"data row14 col3\" >0.221500</td>\n",
       "      <td id=\"T_1c606_row14_col4\" class=\"data row14 col4\" >0.331400</td>\n",
       "      <td id=\"T_1c606_row14_col5\" class=\"data row14 col5\" >0.304000</td>\n",
       "    </tr>\n",
       "    <tr>\n",
       "      <th id=\"T_1c606_level0_row15\" class=\"row_heading level0 row15\" >1</th>\n",
       "      <td id=\"T_1c606_row15_col0\" class=\"data row15 col0\" >Austria</td>\n",
       "      <td id=\"T_1c606_row15_col1\" class=\"data row15 col1\" >D</td>\n",
       "      <td id=\"T_1c606_row15_col2\" class=\"data row15 col2\" >0.096600</td>\n",
       "      <td id=\"T_1c606_row15_col3\" class=\"data row15 col3\" >0.162200</td>\n",
       "      <td id=\"T_1c606_row15_col4\" class=\"data row15 col4\" >0.271200</td>\n",
       "      <td id=\"T_1c606_row15_col5\" class=\"data row15 col5\" >0.470000</td>\n",
       "    </tr>\n",
       "    <tr>\n",
       "      <th id=\"T_1c606_level0_row16\" class=\"row_heading level0 row16\" >2</th>\n",
       "      <td id=\"T_1c606_row16_col0\" class=\"data row16 col0\" >Belgium</td>\n",
       "      <td id=\"T_1c606_row16_col1\" class=\"data row16 col1\" >E</td>\n",
       "      <td id=\"T_1c606_row16_col2\" class=\"data row16 col2\" >0.678100</td>\n",
       "      <td id=\"T_1c606_row16_col3\" class=\"data row16 col3\" >0.206500</td>\n",
       "      <td id=\"T_1c606_row16_col4\" class=\"data row16 col4\" >0.081800</td>\n",
       "      <td id=\"T_1c606_row16_col5\" class=\"data row16 col5\" >0.033600</td>\n",
       "    </tr>\n",
       "    <tr>\n",
       "      <th id=\"T_1c606_level0_row17\" class=\"row_heading level0 row17\" >23</th>\n",
       "      <td id=\"T_1c606_row17_col0\" class=\"data row17 col0\" >Ukraine</td>\n",
       "      <td id=\"T_1c606_row17_col1\" class=\"data row17 col1\" >E</td>\n",
       "      <td id=\"T_1c606_row17_col2\" class=\"data row17 col2\" >0.130100</td>\n",
       "      <td id=\"T_1c606_row17_col3\" class=\"data row17 col3\" >0.271400</td>\n",
       "      <td id=\"T_1c606_row17_col4\" class=\"data row17 col4\" >0.301100</td>\n",
       "      <td id=\"T_1c606_row17_col5\" class=\"data row17 col5\" >0.297400</td>\n",
       "    </tr>\n",
       "    <tr>\n",
       "      <th id=\"T_1c606_level0_row18\" class=\"row_heading level0 row18\" >15</th>\n",
       "      <td id=\"T_1c606_row18_col0\" class=\"data row18 col0\" >Romania</td>\n",
       "      <td id=\"T_1c606_row18_col1\" class=\"data row18 col1\" >E</td>\n",
       "      <td id=\"T_1c606_row18_col2\" class=\"data row18 col2\" >0.106700</td>\n",
       "      <td id=\"T_1c606_row18_col3\" class=\"data row18 col3\" >0.252800</td>\n",
       "      <td id=\"T_1c606_row18_col4\" class=\"data row18 col4\" >0.309900</td>\n",
       "      <td id=\"T_1c606_row18_col5\" class=\"data row18 col5\" >0.330600</td>\n",
       "    </tr>\n",
       "    <tr>\n",
       "      <th id=\"T_1c606_level0_row19\" class=\"row_heading level0 row19\" >18</th>\n",
       "      <td id=\"T_1c606_row19_col0\" class=\"data row19 col0\" >Slovakia</td>\n",
       "      <td id=\"T_1c606_row19_col1\" class=\"data row19 col1\" >E</td>\n",
       "      <td id=\"T_1c606_row19_col2\" class=\"data row19 col2\" >0.085100</td>\n",
       "      <td id=\"T_1c606_row19_col3\" class=\"data row19 col3\" >0.269300</td>\n",
       "      <td id=\"T_1c606_row19_col4\" class=\"data row19 col4\" >0.307200</td>\n",
       "      <td id=\"T_1c606_row19_col5\" class=\"data row19 col5\" >0.338400</td>\n",
       "    </tr>\n",
       "    <tr>\n",
       "      <th id=\"T_1c606_level0_row20\" class=\"row_heading level0 row20\" >14</th>\n",
       "      <td id=\"T_1c606_row20_col0\" class=\"data row20 col0\" >Portugal</td>\n",
       "      <td id=\"T_1c606_row20_col1\" class=\"data row20 col1\" >F</td>\n",
       "      <td id=\"T_1c606_row20_col2\" class=\"data row20 col2\" >0.601400</td>\n",
       "      <td id=\"T_1c606_row20_col3\" class=\"data row20 col3\" >0.254900</td>\n",
       "      <td id=\"T_1c606_row20_col4\" class=\"data row20 col4\" >0.106500</td>\n",
       "      <td id=\"T_1c606_row20_col5\" class=\"data row20 col5\" >0.037200</td>\n",
       "    </tr>\n",
       "    <tr>\n",
       "      <th id=\"T_1c606_level0_row21\" class=\"row_heading level0 row21\" >4</th>\n",
       "      <td id=\"T_1c606_row21_col0\" class=\"data row21 col0\" >Czech Republic</td>\n",
       "      <td id=\"T_1c606_row21_col1\" class=\"data row21 col1\" >F</td>\n",
       "      <td id=\"T_1c606_row21_col2\" class=\"data row21 col2\" >0.247200</td>\n",
       "      <td id=\"T_1c606_row21_col3\" class=\"data row21 col3\" >0.361500</td>\n",
       "      <td id=\"T_1c606_row21_col4\" class=\"data row21 col4\" >0.256900</td>\n",
       "      <td id=\"T_1c606_row21_col5\" class=\"data row21 col5\" >0.134400</td>\n",
       "    </tr>\n",
       "    <tr>\n",
       "      <th id=\"T_1c606_level0_row22\" class=\"row_heading level0 row22\" >22</th>\n",
       "      <td id=\"T_1c606_row22_col0\" class=\"data row22 col0\" >Turkey</td>\n",
       "      <td id=\"T_1c606_row22_col1\" class=\"data row22 col1\" >F</td>\n",
       "      <td id=\"T_1c606_row22_col2\" class=\"data row22 col2\" >0.095700</td>\n",
       "      <td id=\"T_1c606_row22_col3\" class=\"data row22 col3\" >0.244500</td>\n",
       "      <td id=\"T_1c606_row22_col4\" class=\"data row22 col4\" >0.333200</td>\n",
       "      <td id=\"T_1c606_row22_col5\" class=\"data row22 col5\" >0.326600</td>\n",
       "    </tr>\n",
       "    <tr>\n",
       "      <th id=\"T_1c606_level0_row23\" class=\"row_heading level0 row23\" >8</th>\n",
       "      <td id=\"T_1c606_row23_col0\" class=\"data row23 col0\" >Georgia</td>\n",
       "      <td id=\"T_1c606_row23_col1\" class=\"data row23 col1\" >F</td>\n",
       "      <td id=\"T_1c606_row23_col2\" class=\"data row23 col2\" >0.055700</td>\n",
       "      <td id=\"T_1c606_row23_col3\" class=\"data row23 col3\" >0.139100</td>\n",
       "      <td id=\"T_1c606_row23_col4\" class=\"data row23 col4\" >0.303400</td>\n",
       "      <td id=\"T_1c606_row23_col5\" class=\"data row23 col5\" >0.501800</td>\n",
       "    </tr>\n",
       "  </tbody>\n",
       "</table>\n"
      ],
      "text/plain": [
       "<pandas.io.formats.style.Styler at 0x7cab770993c0>"
      ]
     },
     "execution_count": 33,
     "metadata": {},
     "output_type": "execute_result"
    }
   ],
   "source": [
    "standings = pd.concat(standings_list).groupby([\"Team\",\"Grupo\"])[[\"Qualified_1\",\"Qualified_2\",\"Qualified_3\",\"Qualified_4\"]].mean().reset_index().sort_values(by=[\"Grupo\",\"Qualified_1\"], ascending=[True,False])\n",
    "standings_style = standings.style.background_gradient(cmap='Greens')\n",
    "standings_style"
   ]
  },
  {
   "cell_type": "markdown",
   "id": "4e06a0a7",
   "metadata": {
    "papermill": {
     "duration": 0.029267,
     "end_time": "2024-06-10T11:37:39.573363",
     "exception": false,
     "start_time": "2024-06-10T11:37:39.544096",
     "status": "completed"
    },
    "tags": []
   },
   "source": [
    "As we can see, the teams that are more likely to win its respecctive group are Portugal, Belgium and England.\n",
    "And the team which have more difficult to pass the round is Albania."
   ]
  },
  {
   "cell_type": "markdown",
   "id": "bfdeda37",
   "metadata": {
    "papermill": {
     "duration": 0.028727,
     "end_time": "2024-06-10T11:37:39.630827",
     "exception": false,
     "start_time": "2024-06-10T11:37:39.602100",
     "status": "completed"
    },
    "tags": []
   },
   "source": [
    "# Conclusion\n",
    "Predicting football match outcomes is inherently uncertain, but statistical models like the Poisson distribution offer a structured approach to quantify this uncertainty. Our predictions for the 2024 UEFA Euro provide a glimpse into possible outcomes based on historical performance data. As with all models, the key is to continually refine our approach as new data becomes available."
   ]
  }
 ],
 "metadata": {
  "kaggle": {
   "accelerator": "none",
   "dataSources": [
    {
     "datasetId": 4305,
     "sourceId": 8423407,
     "sourceType": "datasetVersion"
    }
   ],
   "dockerImageVersionId": 30732,
   "isGpuEnabled": false,
   "isInternetEnabled": false,
   "language": "python",
   "sourceType": "notebook"
  },
  "kernelspec": {
   "display_name": "Python 3",
   "language": "python",
   "name": "python3"
  },
  "language_info": {
   "codemirror_mode": {
    "name": "ipython",
    "version": 3
   },
   "file_extension": ".py",
   "mimetype": "text/x-python",
   "name": "python",
   "nbconvert_exporter": "python",
   "pygments_lexer": "ipython3",
   "version": "3.10.13"
  },
  "papermill": {
   "default_parameters": {},
   "duration": 1137.265873,
   "end_time": "2024-06-10T11:37:42.285012",
   "environment_variables": {},
   "exception": null,
   "input_path": "__notebook__.ipynb",
   "output_path": "__notebook__.ipynb",
   "parameters": {},
   "start_time": "2024-06-10T11:18:45.019139",
   "version": "2.5.0"
  }
 },
 "nbformat": 4,
 "nbformat_minor": 5
}
